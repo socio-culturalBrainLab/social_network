{
 "cells": [
  {
   "cell_type": "markdown",
   "metadata": {},
   "source": [
    "# Importations et variables"
   ]
  },
  {
   "cell_type": "code",
   "execution_count": 1,
   "metadata": {},
   "outputs": [],
   "source": [
    "import numpy as np\n",
    "import random\n",
    "import matplotlib.pyplot as plt \n",
    "import seaborn as sns\n",
    "import pandas as pd\n",
    "import networkx as nx\n",
    "import scipy\n",
    "import os\n",
    "import glob\n",
    "import matplotlib.image as mpimg\n",
    "import matplotlib.colors as colors\n",
    "import matplotlib.cm as cmx\n",
    "import re\n",
    "\n",
    "from tqdm import tqdm\n",
    "from mpl_toolkits import mplot3d\n",
    "from scipy.stats import pearsonr\n",
    "from scipy.stats import linregress\n",
    "\n",
    "%matplotlib qt"
   ]
  },
  {
   "cell_type": "code",
   "execution_count": 2,
   "metadata": {},
   "outputs": [],
   "source": [
    "import mc.load\n",
    "import mc.compute\n",
    "import mc.plot"
   ]
  },
  {
   "cell_type": "code",
   "execution_count": 3,
   "metadata": {},
   "outputs": [],
   "source": [
    "path_rhesus = 'C:/Users/maell/Documents/ENS/Cours/Césure/Stage_Sliwa/Strasbourg/Code/Rhesus/'\n",
    "path_rhesus_focal = 'C:/Users/maell/Documents/ENS/Cours/Césure/Stage_Sliwa/Strasbourg/Code/Rhesus/Focals/new'\n",
    "path_rhesus_infos = 'C:/Users/maell/Documents/ENS/Cours/Césure/Stage_Sliwa/Strasbourg/Code/Rhesus/Individus/infos.xlsx'\n",
    "        \n",
    "path_tonk_focal = 'C:/Users/maell/Documents/ENS/Cours/Césure/Stage_Sliwa/Strasbourg/Code/Tonk/Focals/'\n",
    "path_tonk_infos = 'C:/Users/maell/Documents/ENS/Cours/Césure/Stage_Sliwa/Strasbourg/Code/Tonk/Individus/infos.xlsx'"
   ]
  },
  {
   "cell_type": "code",
   "execution_count": 4,
   "metadata": {},
   "outputs": [],
   "source": [
    "fichiers_rhesus = mc.load.list_files(path_rhesus_focal)\n",
    "infos_rhesus = mc.load.infos(path_rhesus_infos)\n",
    "\n",
    "fichiers_tonk = mc.load.list_files(path_tonk_focal)\n",
    "infos_tonk = mc.load.infos(path_tonk_infos)"
   ]
  },
  {
   "cell_type": "code",
   "execution_count": 5,
   "metadata": {},
   "outputs": [],
   "source": [
    "rhesus = ['Anyanka', 'Arwen', 'Boromir', 'Djocko','Eowyn','Faramir','Kabuki','Linconnue','Natasha','Quinoa','Spliff','Theoden','Ulysse', 'Vega','Vladimir', 'Volga' , 'Yelena', 'Yvan']\n",
    "\n",
    "tonk = ['Abricot', 'Alaryc', 'Barnabe', 'Berenice', 'Cesar', 'Dory', 'Eric', 'Ficelle', 'Gaia', 'Gandhi', 'Havane', 'Jeanne', 'Lady', 'Lassa', 'Nema', 'Nereis', 'Olga', 'Olli', 'Patchouli', 'Patsy', 'Ulysse', 'Yin', 'Yoh']\n",
    "\n",
    "individus_scanned = ['Theoden', 'Boromir', 'Faramir']"
   ]
  },
  {
   "cell_type": "code",
   "execution_count": 6,
   "metadata": {},
   "outputs": [],
   "source": [
    "aggressive_behaviors = ['Deplacement', 'Menace', 'Agress. phys.']\n",
    "\n",
    "affiliative_behaviors = ['1 Debut Grooming', 'Etreinte', 'Se repose sur', 'Portage', 'Jeu social', 'Contact passif']\n",
    "\n",
    "proximity_behavior = {'1. Contact passif' : 1, '2. Espace peripersonnel': 1, '3. peri<...<2m' : 0.5}\n",
    "\n",
    "dis_matrices = {'Constraint' : 'Greens', 'Centrality' : 'Oranges', 'Social distance' : 'Purples', 'Kinship' : 'Blues', 'Dominance' : 'PuRd'}"
   ]
  },
  {
   "cell_type": "code",
   "execution_count": 19,
   "metadata": {
    "collapsed": true,
    "jupyter": {
     "outputs_hidden": true
    }
   },
   "outputs": [
    {
     "data": {
      "text/html": [
       "<div>\n",
       "<style scoped>\n",
       "    .dataframe tbody tr th:only-of-type {\n",
       "        vertical-align: middle;\n",
       "    }\n",
       "\n",
       "    .dataframe tbody tr th {\n",
       "        vertical-align: top;\n",
       "    }\n",
       "\n",
       "    .dataframe thead th {\n",
       "        text-align: right;\n",
       "    }\n",
       "</style>\n",
       "<table border=\"1\" class=\"dataframe\">\n",
       "  <thead>\n",
       "    <tr style=\"text-align: right;\">\n",
       "      <th></th>\n",
       "      <th>Observation id</th>\n",
       "      <th>Observation date</th>\n",
       "      <th>Description</th>\n",
       "      <th>Media file</th>\n",
       "      <th>Total length</th>\n",
       "      <th>FPS</th>\n",
       "      <th>Subject</th>\n",
       "      <th>Behavior</th>\n",
       "      <th>Behavioral category</th>\n",
       "      <th>Modifiers</th>\n",
       "      <th>Behavior type</th>\n",
       "      <th>Start (s)</th>\n",
       "      <th>Stop (s)</th>\n",
       "      <th>Duration (s)</th>\n",
       "      <th>Comment start</th>\n",
       "      <th>Comment stop</th>\n",
       "    </tr>\n",
       "  </thead>\n",
       "  <tbody>\n",
       "    <tr>\n",
       "      <th>0</th>\n",
       "      <td>0104 pm screen11 inverse</td>\n",
       "      <td>2021-04-01 13:49:45</td>\n",
       "      <td>NaN</td>\n",
       "      <td>LIVE</td>\n",
       "      <td>3890.056</td>\n",
       "      <td>NaN</td>\n",
       "      <td>Eowyn</td>\n",
       "      <td>Immobile</td>\n",
       "      <td>NaN</td>\n",
       "      <td>NaN</td>\n",
       "      <td>STATE</td>\n",
       "      <td>116.467</td>\n",
       "      <td>148.821</td>\n",
       "      <td>32.354</td>\n",
       "      <td>NaN</td>\n",
       "      <td>NaN</td>\n",
       "    </tr>\n",
       "    <tr>\n",
       "      <th>1</th>\n",
       "      <td>0104 pm screen11 inverse</td>\n",
       "      <td>2021-04-01 13:49:45</td>\n",
       "      <td>NaN</td>\n",
       "      <td>LIVE</td>\n",
       "      <td>3890.056</td>\n",
       "      <td>NaN</td>\n",
       "      <td>Eowyn</td>\n",
       "      <td>0. Debut du scan</td>\n",
       "      <td>5 Proximite</td>\n",
       "      <td>NaN</td>\n",
       "      <td>POINT</td>\n",
       "      <td>117.463</td>\n",
       "      <td>117.463</td>\n",
       "      <td>NaN</td>\n",
       "      <td>NaN</td>\n",
       "      <td>NaN</td>\n",
       "    </tr>\n",
       "    <tr>\n",
       "      <th>2</th>\n",
       "      <td>0104 pm screen11 inverse</td>\n",
       "      <td>2021-04-01 13:49:45</td>\n",
       "      <td>NaN</td>\n",
       "      <td>LIVE</td>\n",
       "      <td>3890.056</td>\n",
       "      <td>NaN</td>\n",
       "      <td>Eowyn</td>\n",
       "      <td>4. Prox. 2-5 m</td>\n",
       "      <td>5 Proximite</td>\n",
       "      <td>Faramir</td>\n",
       "      <td>POINT</td>\n",
       "      <td>117.951</td>\n",
       "      <td>117.951</td>\n",
       "      <td>NaN</td>\n",
       "      <td>NaN</td>\n",
       "      <td>NaN</td>\n",
       "    </tr>\n",
       "    <tr>\n",
       "      <th>3</th>\n",
       "      <td>0104 pm screen11 inverse</td>\n",
       "      <td>2021-04-01 13:49:45</td>\n",
       "      <td>NaN</td>\n",
       "      <td>LIVE</td>\n",
       "      <td>3890.056</td>\n",
       "      <td>NaN</td>\n",
       "      <td>Eowyn</td>\n",
       "      <td>Selfgrooming</td>\n",
       "      <td>Cpt autocentré</td>\n",
       "      <td>ventre</td>\n",
       "      <td>STATE</td>\n",
       "      <td>128.312</td>\n",
       "      <td>135.120</td>\n",
       "      <td>6.808</td>\n",
       "      <td>NaN</td>\n",
       "      <td>NaN</td>\n",
       "    </tr>\n",
       "    <tr>\n",
       "      <th>4</th>\n",
       "      <td>0104 pm screen11 inverse</td>\n",
       "      <td>2021-04-01 13:49:45</td>\n",
       "      <td>NaN</td>\n",
       "      <td>LIVE</td>\n",
       "      <td>3890.056</td>\n",
       "      <td>NaN</td>\n",
       "      <td>Eowyn</td>\n",
       "      <td>Selfgrooming</td>\n",
       "      <td>Cpt autocentré</td>\n",
       "      <td>minishort ventral</td>\n",
       "      <td>STATE</td>\n",
       "      <td>136.139</td>\n",
       "      <td>143.001</td>\n",
       "      <td>6.862</td>\n",
       "      <td>NaN</td>\n",
       "      <td>NaN</td>\n",
       "    </tr>\n",
       "    <tr>\n",
       "      <th>...</th>\n",
       "      <td>...</td>\n",
       "      <td>...</td>\n",
       "      <td>...</td>\n",
       "      <td>...</td>\n",
       "      <td>...</td>\n",
       "      <td>...</td>\n",
       "      <td>...</td>\n",
       "      <td>...</td>\n",
       "      <td>...</td>\n",
       "      <td>...</td>\n",
       "      <td>...</td>\n",
       "      <td>...</td>\n",
       "      <td>...</td>\n",
       "      <td>...</td>\n",
       "      <td>...</td>\n",
       "      <td>...</td>\n",
       "    </tr>\n",
       "    <tr>\n",
       "      <th>116</th>\n",
       "      <td>screen7 spliff et l'inconnue</td>\n",
       "      <td>2021-03-16 09:06:51</td>\n",
       "      <td>NaN</td>\n",
       "      <td>LIVE</td>\n",
       "      <td>2099.199</td>\n",
       "      <td>NaN</td>\n",
       "      <td>Spliff</td>\n",
       "      <td>Se deplace</td>\n",
       "      <td>NaN</td>\n",
       "      <td>NaN</td>\n",
       "      <td>STATE</td>\n",
       "      <td>1903.969</td>\n",
       "      <td>1993.774</td>\n",
       "      <td>89.805</td>\n",
       "      <td>NaN</td>\n",
       "      <td>NaN</td>\n",
       "    </tr>\n",
       "    <tr>\n",
       "      <th>117</th>\n",
       "      <td>screen7 spliff et l'inconnue</td>\n",
       "      <td>2021-03-16 09:06:51</td>\n",
       "      <td>NaN</td>\n",
       "      <td>LIVE</td>\n",
       "      <td>2099.199</td>\n",
       "      <td>NaN</td>\n",
       "      <td>Spliff</td>\n",
       "      <td>0. Debut du scan</td>\n",
       "      <td>5 Proximite</td>\n",
       "      <td>NaN</td>\n",
       "      <td>POINT</td>\n",
       "      <td>1926.199</td>\n",
       "      <td>1926.199</td>\n",
       "      <td>NaN</td>\n",
       "      <td>NaN</td>\n",
       "      <td>NaN</td>\n",
       "    </tr>\n",
       "    <tr>\n",
       "      <th>118</th>\n",
       "      <td>screen7 spliff et l'inconnue</td>\n",
       "      <td>2021-03-16 09:06:51</td>\n",
       "      <td>NaN</td>\n",
       "      <td>LIVE</td>\n",
       "      <td>2099.199</td>\n",
       "      <td>NaN</td>\n",
       "      <td>Spliff</td>\n",
       "      <td>3. peri&lt;...&lt;2m</td>\n",
       "      <td>5 Proximite</td>\n",
       "      <td>Boromir,Arwen,Theoden,Anyanka</td>\n",
       "      <td>POINT</td>\n",
       "      <td>1929.392</td>\n",
       "      <td>1929.392</td>\n",
       "      <td>NaN</td>\n",
       "      <td>NaN</td>\n",
       "      <td>NaN</td>\n",
       "    </tr>\n",
       "    <tr>\n",
       "      <th>119</th>\n",
       "      <td>screen7 spliff et l'inconnue</td>\n",
       "      <td>2021-03-16 09:06:51</td>\n",
       "      <td>NaN</td>\n",
       "      <td>LIVE</td>\n",
       "      <td>2099.199</td>\n",
       "      <td>NaN</td>\n",
       "      <td>Spliff</td>\n",
       "      <td>4. Prox. 2-5 m</td>\n",
       "      <td>5 Proximite</td>\n",
       "      <td>Quinoa,Ulysse,Yelena,Vladimir,Volga</td>\n",
       "      <td>POINT</td>\n",
       "      <td>1944.208</td>\n",
       "      <td>1944.208</td>\n",
       "      <td>NaN</td>\n",
       "      <td>NaN</td>\n",
       "      <td>NaN</td>\n",
       "    </tr>\n",
       "    <tr>\n",
       "      <th>120</th>\n",
       "      <td>screen7 spliff et l'inconnue</td>\n",
       "      <td>2021-03-16 09:06:51</td>\n",
       "      <td>NaN</td>\n",
       "      <td>LIVE</td>\n",
       "      <td>2099.199</td>\n",
       "      <td>NaN</td>\n",
       "      <td>Spliff</td>\n",
       "      <td>Non-visible</td>\n",
       "      <td>NaN</td>\n",
       "      <td>NaN</td>\n",
       "      <td>STATE</td>\n",
       "      <td>1993.774</td>\n",
       "      <td>2096.588</td>\n",
       "      <td>102.814</td>\n",
       "      <td>NaN</td>\n",
       "      <td>NaN</td>\n",
       "    </tr>\n",
       "  </tbody>\n",
       "</table>\n",
       "<p>448717 rows × 16 columns</p>\n",
       "</div>"
      ],
      "text/plain": [
       "                   Observation id     Observation date Description Media file  \\\n",
       "0        0104 pm screen11 inverse  2021-04-01 13:49:45         NaN       LIVE   \n",
       "1        0104 pm screen11 inverse  2021-04-01 13:49:45         NaN       LIVE   \n",
       "2        0104 pm screen11 inverse  2021-04-01 13:49:45         NaN       LIVE   \n",
       "3        0104 pm screen11 inverse  2021-04-01 13:49:45         NaN       LIVE   \n",
       "4        0104 pm screen11 inverse  2021-04-01 13:49:45         NaN       LIVE   \n",
       "..                            ...                  ...         ...        ...   \n",
       "116  screen7 spliff et l'inconnue  2021-03-16 09:06:51         NaN       LIVE   \n",
       "117  screen7 spliff et l'inconnue  2021-03-16 09:06:51         NaN       LIVE   \n",
       "118  screen7 spliff et l'inconnue  2021-03-16 09:06:51         NaN       LIVE   \n",
       "119  screen7 spliff et l'inconnue  2021-03-16 09:06:51         NaN       LIVE   \n",
       "120  screen7 spliff et l'inconnue  2021-03-16 09:06:51         NaN       LIVE   \n",
       "\n",
       "     Total length  FPS Subject          Behavior Behavioral category  \\\n",
       "0        3890.056  NaN   Eowyn          Immobile                 NaN   \n",
       "1        3890.056  NaN   Eowyn  0. Debut du scan         5 Proximite   \n",
       "2        3890.056  NaN   Eowyn    4. Prox. 2-5 m         5 Proximite   \n",
       "3        3890.056  NaN   Eowyn      Selfgrooming      Cpt autocentré   \n",
       "4        3890.056  NaN   Eowyn      Selfgrooming      Cpt autocentré   \n",
       "..            ...  ...     ...               ...                 ...   \n",
       "116      2099.199  NaN  Spliff        Se deplace                 NaN   \n",
       "117      2099.199  NaN  Spliff  0. Debut du scan         5 Proximite   \n",
       "118      2099.199  NaN  Spliff    3. peri<...<2m         5 Proximite   \n",
       "119      2099.199  NaN  Spliff    4. Prox. 2-5 m         5 Proximite   \n",
       "120      2099.199  NaN  Spliff       Non-visible                 NaN   \n",
       "\n",
       "                               Modifiers Behavior type  Start (s)  Stop (s)  \\\n",
       "0                                    NaN         STATE    116.467   148.821   \n",
       "1                                    NaN         POINT    117.463   117.463   \n",
       "2                                Faramir         POINT    117.951   117.951   \n",
       "3                                 ventre         STATE    128.312   135.120   \n",
       "4                      minishort ventral         STATE    136.139   143.001   \n",
       "..                                   ...           ...        ...       ...   \n",
       "116                                  NaN         STATE   1903.969  1993.774   \n",
       "117                                  NaN         POINT   1926.199  1926.199   \n",
       "118        Boromir,Arwen,Theoden,Anyanka         POINT   1929.392  1929.392   \n",
       "119  Quinoa,Ulysse,Yelena,Vladimir,Volga         POINT   1944.208  1944.208   \n",
       "120                                  NaN         STATE   1993.774  2096.588   \n",
       "\n",
       "     Duration (s)  Comment start Comment stop  \n",
       "0          32.354            NaN          NaN  \n",
       "1             NaN            NaN          NaN  \n",
       "2             NaN            NaN          NaN  \n",
       "3           6.808            NaN          NaN  \n",
       "4           6.862            NaN          NaN  \n",
       "..            ...            ...          ...  \n",
       "116        89.805            NaN          NaN  \n",
       "117           NaN            NaN          NaN  \n",
       "118           NaN            NaN          NaN  \n",
       "119           NaN            NaN          NaN  \n",
       "120       102.814            NaN          NaN  \n",
       "\n",
       "[448717 rows x 16 columns]"
      ]
     },
     "execution_count": 19,
     "metadata": {},
     "output_type": "execute_result"
    }
   ],
   "source": [
    "mc.load.reorder_files(fichiers_rhesus, save=True, name = 'focal.csv', path = 'C:/Users/maell/Documents/ENS/Cours/Césure/Stage_Sliwa/Strasbourg/Code/Rhesus/')"
   ]
  },
  {
   "cell_type": "markdown",
   "metadata": {},
   "source": [
    "# Fonctions"
   ]
  },
  {
   "cell_type": "markdown",
   "metadata": {},
   "source": [
    "# Calculs matrices"
   ]
  },
  {
   "cell_type": "code",
   "execution_count": 7,
   "metadata": {},
   "outputs": [],
   "source": [
    "matrix_ages_rhesus = mc.compute.matrices_infos(rhesus, infos_rhesus, 'age')\n",
    "\n",
    "matrix_domination_rhesus = mc.compute.matrices_infos(rhesus, infos_rhesus, 'domination')\n",
    "\n",
    "matrix_gender_rhesus = mc.compute.matrices_infos(rhesus, infos_rhesus, 'gender')\n",
    "\n",
    "matrix_kinship_rhesus = mc.load.kinship(path_rhesus_infos)"
   ]
  },
  {
   "cell_type": "code",
   "execution_count": 8,
   "metadata": {},
   "outputs": [],
   "source": [
    "matrix_ages_tonk = mc.compute.matrices_infos(tonk, infos_tonk, 'age')\n",
    "\n",
    "matrix_domination_tonk = mc.compute.matrices_infos(tonk, infos_tonk, 'domination')\n",
    "\n",
    "matrix_gender_tonk = mc.compute.matrices_infos(tonk, infos_tonk, 'gender')\n",
    "\n",
    "matrix_kinship_tonk = mc.load.kinship(path_tonk_infos)"
   ]
  },
  {
   "cell_type": "code",
   "execution_count": 22,
   "metadata": {},
   "outputs": [
    {
     "name": "stderr",
     "output_type": "stream",
     "text": [
      "C:\\Users\\maell\\anaconda3\\lib\\site-packages\\IPython\\core\\interactiveshell.py:3263: DtypeWarning: Columns (16) have mixed types.Specify dtype option on import or set low_memory=False.\n",
      "  if (await self.run_code(code, result,  async_=asy)):\n"
     ]
    }
   ],
   "source": [
    "mat = mc.compute.dsi_affiliative(affiliative_behaviors, rhesus, ['C:/Users/maell/Documents/ENS/Cours/Césure/Stage_Sliwa/Strasbourg/Code/Rhesus/focal.csv'])\n",
    "np.save(path_rhesus + 'mat_affiliative', mat)"
   ]
  },
  {
   "cell_type": "code",
   "execution_count": 23,
   "metadata": {},
   "outputs": [],
   "source": [
    "mat,t = mc.compute.thresholed_matrix(mat, 0.001)\n",
    "np.save(path_rhesus + 'mat_affiliative_thresholded', mat)"
   ]
  },
  {
   "cell_type": "code",
   "execution_count": 24,
   "metadata": {},
   "outputs": [],
   "source": [
    "mat = mc.compute.binary_matrix(mat)\n",
    "np.save(path_rhesus + 'mat_affiliative_thresholded_binary', mat)"
   ]
  },
  {
   "cell_type": "markdown",
   "metadata": {},
   "source": [
    "# Dissimilarity matrix"
   ]
  },
  {
   "cell_type": "code",
   "execution_count": 61,
   "metadata": {
    "jupyter": {
     "source_hidden": true
    }
   },
   "outputs": [],
   "source": [
    "matrix_domination_t = np.delete(matrix_domination, individus.index('Theoden'),1)\n",
    "matrix_domination_t = np.delete(matrix_domination_t, individus.index('Theoden'),0)\n",
    "\n",
    "matrix_domination_f = np.delete(matrix_domination, individus.index('Faramir'),1)\n",
    "matrix_domination_f = np.delete(matrix_domination_f, individus.index('Faramir'),0)\n",
    "\n",
    "matrix_domination_b = np.delete(matrix_domination, individus.index('Boromir'),1)\n",
    "matrix_domination_b = np.delete(matrix_domination_b, individus.index('Boromir'),0)"
   ]
  },
  {
   "cell_type": "code",
   "execution_count": 71,
   "metadata": {
    "jupyter": {
     "source_hidden": true
    }
   },
   "outputs": [],
   "source": [
    "dissimilarity_matrix_affiliative_t = compute_dis_matrix(matrix_binary_affiliative, individus, 'Theoden', type_dis='Social distance')\n",
    "\n",
    "dissimilarity_matrix_centrality_t = compute_dis_matrix(matrix_binary_affiliative, individus, 'Theoden', type_dis='Centrality')\n",
    "\n",
    "dissimilarity_matrix_constraint_t = compute_dis_matrix(matrix_binary_affiliative, individus, 'Theoden', type_dis='Constraint')\n",
    "\n",
    "dissimilarity_matrix_kinship_t = compute_dis_matrix(matrix_parente, individus, 'Theoden', type_dis='Kinship')\n",
    "\n",
    "dissimilarity_matrix_age_t = compute_dis_matrix(matrix_ages, individus, 'Theoden', type_dis='Kinship')\n",
    "\n",
    "dissimilarity_matrix_gender_t = compute_dis_matrix(matrix_gender, individus, 'Theoden', type_dis='Kinship')\n",
    "\n",
    "\n",
    "dissimilarity_matrix_affiliative_b = compute_dis_matrix(matrix_binary_affiliative, individus, 'Boromir', type_dis='Social distance')\n",
    "\n",
    "dissimilarity_matrix_centrality_b = compute_dis_matrix(matrix_binary_affiliative, individus, 'Boromir', type_dis='Centrality')\n",
    "\n",
    "dissimilarity_matrix_constraint_b = compute_dis_matrix(matrix_binary_affiliative, individus, 'Boromir', type_dis='Constraint')\n",
    "\n",
    "dissimilarity_matrix_kinship_b = compute_dis_matrix(matrix_parente, individus, 'Boromir', type_dis='Kinship')\n",
    "\n",
    "dissimilarity_matrix_age_b = compute_dis_matrix(matrix_ages, individus, 'Boromir', type_dis='Kinship')\n",
    "\n",
    "dissimilarity_matrix_gender_b = compute_dis_matrix(matrix_gender, individus, 'Boromir', type_dis='Kinship')\n",
    "\n",
    "\n",
    "dissimilarity_matrix_affiliative_f = compute_dis_matrix(matrix_binary_affiliative, individus, 'Faramir', type_dis='Social distance')\n",
    "\n",
    "dissimilarity_matrix_centrality_f = compute_dis_matrix(matrix_binary_affiliative, individus, 'Faramir', type_dis='Centrality')\n",
    "\n",
    "dissimilarity_matrix_constraint_f = compute_dis_matrix(matrix_binary_affiliative, individus, 'Faramir', type_dis='Constraint')\n",
    "\n",
    "dissimilarity_matrix_kinship_f = compute_dis_matrix(matrix_parente, individus, 'Faramir', type_dis='Kinship')\n",
    "\n",
    "dissimilarity_matrix_age_f = compute_dis_matrix(matrix_ages, individus, 'Faramir', type_dis='Kinship')\n",
    "\n",
    "dissimilarity_matrix_gender_f = compute_dis_matrix(matrix_gender, individus, 'Faramir', type_dis='Kinship')"
   ]
  },
  {
   "cell_type": "code",
   "execution_count": 35,
   "metadata": {
    "jupyter": {
     "source_hidden": true
    }
   },
   "outputs": [],
   "source": [
    "dissimilarity_matrix_social_distance = compute_dis_matrix_global(matrix_affiliative, individuals=individus, type_dis='Social distance')\n",
    "\n",
    "dissimilarity_matrix_constraint = compute_dis_matrix_global(matrix_affiliative, individuals=individus, type_dis='Constraint')\n",
    "\n",
    "dissimilarity_matrix_centrality = compute_dis_matrix_global(matrix_affiliative, individuals=individus, type_dis='Centrality')"
   ]
  },
  {
   "cell_type": "markdown",
   "metadata": {},
   "source": [
    "# Network Graphs"
   ]
  },
  {
   "cell_type": "code",
   "execution_count": 209,
   "metadata": {
    "jupyter": {
     "source_hidden": true
    }
   },
   "outputs": [],
   "source": [
    "test = np.array(matrix_parente)\n",
    "for i in range(len(test)):\n",
    "    for j in range (len(test)):\n",
    "        if test[i][j] < 0.5:\n",
    "            test[i][j] = 0\n",
    "            \n",
    "plot_network(matrix_binary_affiliative, individus, node_colors='Purples', network_type='Social distance', ind='Theoden', images=True, save=False, other_matrix = test, path = 'C:/Users/maell/Documents/ENS/Cours/Césure/Stage_Sliwa/Strasbourg/Code/Figures/', title = 'network_parente_05_social_affiliative_links') "
   ]
  },
  {
   "cell_type": "code",
   "execution_count": 25,
   "metadata": {
    "jupyter": {
     "source_hidden": true
    }
   },
   "outputs": [],
   "source": [
    "matrix_proximity_thresholed,threshold_proximity = thresholed_matrix(matrix_proximity)\n",
    "\n",
    "matrix_affiliative_thresholed,threshold_affiliative = thresholed_matrix(matrix_affiliative)\n",
    "\n",
    "network_proximity = plot_network(matrix_proximity_thresholed, individus, color_genders, title = 'Proximity_network')\n",
    "\n",
    "network_affiliative = plot_network(matrix_affiliative_thresholed, individus, color_genders, title = 'Affiliative_network')"
   ]
  },
  {
   "cell_type": "markdown",
   "metadata": {},
   "source": [
    "# Classical Heatmaps"
   ]
  },
  {
   "cell_type": "code",
   "execution_count": 21,
   "metadata": {
    "jupyter": {
     "source_hidden": true
    }
   },
   "outputs": [],
   "source": [
    "heatmap_parente = plot_heatmap(matrix_parente, individus, color='Blues', labels=False, save=True, name_save = 'matrice_parente')\n",
    "\n",
    "heatmap_ages = plot_heatmap(matrix_ages, individus, color='Reds', labels=False, save=True, name_save = 'matrice_ages')\n",
    "\n",
    "heatmap_genders = plot_heatmap(matrix_gender, individus, color='YlGnBu', labels=False, save=True, name_save = 'matrice_genders')\n",
    "\n",
    "heatmap_domination = plot_heatmap(matrix_domination, individus, color='PuRd', labels=False, save=True, name_save = 'matrice_domination')\n"
   ]
  },
  {
   "cell_type": "markdown",
   "metadata": {},
   "source": [
    "# Dissimilarity Heatmaps"
   ]
  },
  {
   "cell_type": "code",
   "execution_count": null,
   "metadata": {
    "jupyter": {
     "source_hidden": true
    }
   },
   "outputs": [],
   "source": [
    "heatmap_dissimilarity_affiliative = plot_heatmap(dissimilarity_matrix_affiliative, individus, color = 'Purples', id_scan = ind_scanned)\n",
    "\n",
    "heatmap_dissimilarity_proximity = plot_heatmap(dissimilarity_matrix_proximity, individus, color = 'Purples', id_scan = ind_scanned)\n",
    "\n",
    "heatmap_dissimilarity_centrality_a = plot_heatmap(dissimilarity_matrix_centrality_a, individus, color = 'Oranges', id_scan = ind_scanned)\n",
    "\n",
    "heatmap_dissimilarity_centrality_p = plot_heatmap(dissimilarity_matrix_centrality_p, individus, color = 'Oranges', id_scan = ind_scanned)\n",
    "\n",
    "heatmap_dissimilarity_constraint_p = plot_heatmap(dissimilarity_matrix_constraint_p, individus, color = 'Greens', id_scan = ind_scanned)\n",
    "\n",
    "heatmap_dissimilarity_constraint_a = plot_heatmap(dissimilarity_matrix_constraint_a, individus, color = 'Greens', id_scan = ind_scanned)\n"
   ]
  },
  {
   "cell_type": "markdown",
   "metadata": {},
   "source": [
    "# Linear regressions"
   ]
  },
  {
   "cell_type": "code",
   "execution_count": 19,
   "metadata": {
    "jupyter": {
     "source_hidden": true
    }
   },
   "outputs": [],
   "source": [
    "flat_matrix_affiliative = np.matrix.flatten(matrix_affiliative)\n",
    "flat_matrix_proximity = np.matrix.flatten(matrix_proximity)\n",
    "flat_matrix_aggressive = np.matrix.flatten(matrix_aggressive)"
   ]
  },
  {
   "cell_type": "code",
   "execution_count": 21,
   "metadata": {
    "jupyter": {
     "source_hidden": true
    }
   },
   "outputs": [],
   "source": [
    "slope_afp, intercept_afp, r_value_afp, p_value_afp, std_err_afp = linregress(flat_matrix_affiliative, flat_matrix_proximity)\n",
    "slope_agp, intercept_agp, r_value_agp, p_value_agp, std_err_agp = linregress(flat_matrix_aggressive, flat_matrix_proximity)\n",
    "slope_afag, intercept_afag, r_value_afag, p_value_afag, std_err_afag = linregress(flat_matrix_affiliative, flat_matrix_aggressive)"
   ]
  },
  {
   "cell_type": "code",
   "execution_count": 54,
   "metadata": {
    "jupyter": {
     "source_hidden": true
    }
   },
   "outputs": [],
   "source": [
    "fig,ax = plt.subplots(3,1, figsize=(10,10))\n",
    "\n",
    "ax = plt.subplot(311)\n",
    "plt.scatter(matrix_affiliative, matrix_proximity)\n",
    "x = np.arange(np.min(matrix_affiliative), int(np.max(matrix_affiliative))+1)\n",
    "plt.plot(x, slope_afp*x + intercept_afp, color='g')\n",
    "plt.xlabel('affiliatif behavior')\n",
    "plt.ylabel('proximity')\n",
    "plt.text(15,3,'r²='+str(round(r_value_afp**2,3))+'\\n'+'p='+str(p_value_afp))\n",
    "\n",
    "plt.subplot(312)\n",
    "plt.scatter(matrix_aggressive, matrix_proximity)\n",
    "x = np.arange(np.min(matrix_aggressive), int(np.max(matrix_aggressive))+1)\n",
    "plt.plot(x, slope_agp*x + intercept_agp, color='g')\n",
    "plt.xlabel('aggressive behavior')\n",
    "plt.ylabel('proximity')\n",
    "plt.text(18,2,'r²='+str(round(r_value_agp**2,3))+'\\n'+'p='+str(round(p_value_agp,3)))\n",
    "\n",
    "plt.subplot(313)\n",
    "plt.scatter(matrix_affiliative, matrix_aggressive)\n",
    "x = np.arange(np.min(matrix_affiliative), int(np.max(matrix_affiliative))+1)\n",
    "plt.plot(x, slope_afag*x + intercept_afag, color='g')\n",
    "plt.xlabel('affiliatif behavior')\n",
    "plt.ylabel('aggressive behavior')\n",
    "plt.text(15,3,'r²='+str(round(r_value_afag**2,3))+'\\n'+'p='+str(round(p_value_afag,3)))\n",
    "\n",
    "plt.savefig('C:/Users/maell/Documents/ENS/Cours/Césure/Stage_Sliwa/Strasbourg/Code/Figures/linear_regressions.png')"
   ]
  },
  {
   "cell_type": "markdown",
   "metadata": {},
   "source": [
    "# Pearson coeff"
   ]
  },
  {
   "cell_type": "code",
   "execution_count": 73,
   "metadata": {
    "jupyter": {
     "source_hidden": true
    }
   },
   "outputs": [],
   "source": [
    "flat_dissimilarity_matrix_affiliative_t = np.matrix.flatten(dissimilarity_matrix_affiliative_t)\n",
    "flat_dissimilarity_matrix_centrality_t = np.matrix.flatten(dissimilarity_matrix_centrality_t)\n",
    "flat_dissimilarity_matrix_constraint_t = np.matrix.flatten(dissimilarity_matrix_constraint_t)\n",
    "flat_dissimilarity_matrix_kinship_t = np.matrix.flatten(dissimilarity_matrix_kinship_t)\n",
    "flat_dissimilarity_matrix_age_t = np.matrix.flatten(dissimilarity_matrix_age_t)\n",
    "flat_dissimilarity_matrix_gender_t = np.matrix.flatten(dissimilarity_matrix_gender_t)\n",
    "\n",
    "flat_dissimilarity_matrix_affiliative_b = np.matrix.flatten(dissimilarity_matrix_affiliative_b) \n",
    "flat_dissimilarity_matrix_centrality_b = np.matrix.flatten(dissimilarity_matrix_centrality_b)\n",
    "flat_dissimilarity_matrix_constraint_b = np.matrix.flatten(dissimilarity_matrix_constraint_b)\n",
    "flat_dissimilarity_matrix_kinship_b = np.matrix.flatten(dissimilarity_matrix_kinship_b)\n",
    "flat_dissimilarity_matrix_age_b = np.matrix.flatten(dissimilarity_matrix_age_b)\n",
    "flat_dissimilarity_matrix_gender_b = np.matrix.flatten(dissimilarity_matrix_gender_b)\n",
    "\n",
    "flat_dissimilarity_matrix_affiliative_f = np.matrix.flatten(dissimilarity_matrix_affiliative_f)\n",
    "flat_dissimilarity_matrix_centrality_f = np.matrix.flatten(dissimilarity_matrix_centrality_f)\n",
    "flat_dissimilarity_matrix_constraint_f = np.matrix.flatten(dissimilarity_matrix_constraint_f)\n",
    "flat_dissimilarity_matrix_kinship_f = np.matrix.flatten(dissimilarity_matrix_kinship_f)\n",
    "flat_dissimilarity_matrix_age_f = np.matrix.flatten(dissimilarity_matrix_age_f)\n",
    "flat_dissimilarity_matrix_gender_f = np.matrix.flatten(dissimilarity_matrix_gender_f)"
   ]
  },
  {
   "cell_type": "code",
   "execution_count": 36,
   "metadata": {
    "jupyter": {
     "source_hidden": true
    }
   },
   "outputs": [],
   "source": [
    "flat_dissimilarity_matrix_affiliative = np.matrix.flatten(dissimilarity_matrix_social_distance)\n",
    "flat_dissimilarity_matrix_centrality = np.matrix.flatten(dissimilarity_matrix_centrality)\n",
    "flat_dissimilarity_matrix_constraint = np.matrix.flatten(dissimilarity_matrix_constraint)\n",
    "flat_dissimilarity_matrix_age = np.matrix.flatten(matrix_ages)\n",
    "flat_dissimilarity_matrix_gender = np.matrix.flatten(matrix_gender)\n",
    "flat_dissimilarity_matrix_hierarchy = np.matrix.flatten(matrix_domination)\n",
    "flat_dissimilarity_matrix_kinship = []\n",
    "for i in matrix_parente:\n",
    "    for j in i:\n",
    "        flat_dissimilarity_matrix_kinship.append(j)"
   ]
  },
  {
   "cell_type": "code",
   "execution_count": 37,
   "metadata": {
    "jupyter": {
     "source_hidden": true
    }
   },
   "outputs": [],
   "source": [
    "metrics = ['social_distance','centrality', 'constraint', 'kinship', 'age', 'gender', 'hierarchy']"
   ]
  },
  {
   "cell_type": "code",
   "execution_count": 61,
   "metadata": {
    "jupyter": {
     "source_hidden": true
    }
   },
   "outputs": [],
   "source": [
    "p_values = np.zeros((len(metrics),len(metrics)))\n",
    "coeffs = np.zeros((len(metrics),len(metrics)), dtype='object')\n",
    "matrices = [flat_dissimilarity_matrix_affiliative, flat_dissimilarity_matrix_centrality, flat_dissimilarity_matrix_constraint, flat_dissimilarity_matrix_kinship, flat_dissimilarity_matrix_age, flat_dissimilarity_matrix_gender, flat_dissimilarity_matrix_hierarchy]\n",
    "for i in range(len(matrices)):\n",
    "    for j in range(len(matrices)):\n",
    "        c,p = pearsonr(matrices[i],matrices[j])\n",
    "        coeffs[i,j]=c\n",
    "        p_values[i,j]=p"
   ]
  },
  {
   "cell_type": "code",
   "execution_count": 62,
   "metadata": {
    "jupyter": {
     "source_hidden": true
    }
   },
   "outputs": [],
   "source": [
    "p_values_binary = np.zeros((len(metrics),len(metrics)))\n",
    "masque = np.zeros((len(metrics),len(metrics)),dtype = np.bool)\n",
    "nb_of_tests = ((len(metrics)**2)- len(metrics))/2 \n",
    "for i in range(len(matrices)):\n",
    "    for j in range(len(matrices)):\n",
    "        if p_values[i,j] > 0.05/nb_of_tests:\n",
    "            p_values_binary[i,j] = 0.5\n",
    "        if p_values[i,j] > 0.05:\n",
    "            p_values_binary[i,j] = 1\n",
    "        "
   ]
  },
  {
   "cell_type": "code",
   "execution_count": 68,
   "metadata": {
    "jupyter": {
     "source_hidden": true
    }
   },
   "outputs": [],
   "source": [
    "test = np.tril(p_values_binary)\n",
    "test2 = np.tril(coeffs)"
   ]
  },
  {
   "cell_type": "code",
   "execution_count": 228,
   "metadata": {
    "collapsed": true,
    "jupyter": {
     "outputs_hidden": true,
     "source_hidden": true
    }
   },
   "outputs": [
    {
     "data": {
      "text/plain": [
       "0.0033333333333333335"
      ]
     },
     "execution_count": 228,
     "metadata": {},
     "output_type": "execute_result"
    }
   ],
   "source": [
    "0.05/nb_of_tests "
   ]
  },
  {
   "cell_type": "code",
   "execution_count": 69,
   "metadata": {
    "jupyter": {
     "source_hidden": true
    }
   },
   "outputs": [],
   "source": [
    "plot_heatmap(test, metrics, color='Greys', an=test2, save=False, name_save = 'p_values_binary_corrected_global')\n",
    "#plot_heatmap(p_values, metrics, color='Greys', save=False, name_save = 'p_values_global' )\n",
    "#plot_heatmap(coeffs, metrics, color='Greys', save=False, name_save = 'pearson_coeffs_global')"
   ]
  },
  {
   "cell_type": "code",
   "execution_count": 75,
   "metadata": {
    "jupyter": {
     "source_hidden": true
    }
   },
   "outputs": [],
   "source": [
    "fig, ax = plt.subplots(figsize=(6,6))\n",
    "\n",
    "sns.heatmap(test,vmin=np.min(test), vmax=np.max(test),xticklabels=metrics, yticklabels=metrics, cmap='Greys', annot=test2, mask=masque, linewidths=0,  square=True, cbar_kws={'shrink': 0.7})\n",
    "ax.invert_yaxis()\n",
    "plt.savefig('C:/Users/maell/Documents/ENS/Cours/Césure/Stage_Sliwa/Strasbourg/Code/Rhesus/Figures/p_values_to_modify.svg', bbox_inches='tight', pad_inches = 0.5)\n",
    "            "
   ]
  },
  {
   "cell_type": "markdown",
   "metadata": {},
   "source": [
    "# Bootstrap"
   ]
  },
  {
   "cell_type": "code",
   "execution_count": 10,
   "metadata": {
    "collapsed": true,
    "jupyter": {
     "outputs_hidden": true,
     "source_hidden": true
    }
   },
   "outputs": [
    {
     "name": "stderr",
     "output_type": "stream",
     "text": [
      "100%|██████████████████████████████████████████████████████████████████████████████| 1000/1000 [57:21<00:00,  3.44s/it]\n"
     ]
    }
   ],
   "source": [
    "nb_it = 1000\n",
    "true_matrix = compute_dsi(list_of_b=affiliative_behaviors, type_of_b='Affiliative', ind=individus)\n",
    "random_matrices = []\n",
    "means= np.zeros(shape=(len(individus), len(individus)))\n",
    "std = np.zeros(shape=(len(individus), len(individus)))\n",
    "bottom = np.zeros(shape=(len(individus), len(individus)))\n",
    "top = np.zeros(shape=(len(individus), len(individus)))\n",
    "colors = np.zeros((len(individus), len(individus)), dtype=str)\n",
    "for i in tqdm(range(0,nb_it)):\n",
    "    \n",
    "    givers = random.sample(individus,len(individus))\n",
    "    id_givers=np.arange(len(givers))\n",
    "    id_receivers=np.copy(id_givers)\n",
    "    while (np.min(np.abs(id_givers-id_receivers)) == 0):\n",
    "        random.shuffle(id_receivers)\n",
    "    receivers = [givers[id_receivers[i]] for i in range(len(givers))]\n",
    "    \n",
    "    matrix = compute_dsi(list_of_b=affiliative_behaviors, type_of_b='Affiliative', ind=individus, rece=receivers, giv=givers, rand=True)\n",
    "    random_matrices.append(matrix)"
   ]
  },
  {
   "cell_type": "code",
   "execution_count": 25,
   "metadata": {
    "jupyter": {
     "source_hidden": true
    }
   },
   "outputs": [],
   "source": [
    "which_dyad = []\n",
    "for i in range(0,len(individus)):\n",
    "    for j in range(0,len(individus)):\n",
    "        values = []\n",
    "        for m in range(len(random_matrices)):\n",
    "            values.append(random_matrices[m][i][j])\n",
    "        means[i][j] = np.mean(values)\n",
    "        std[i][j] = np.std(values)\n",
    "        bottom[i][j] = means[i][j]-std[i][j]\n",
    "        top[i][j] = means[i][j]+std[i][j]\n",
    "        if  bottom[i][j] < true_matrix[i][j] < top[i][j]:\n",
    "            colors[i][j]='k'\n",
    "        else:\n",
    "            colors[i][j]='r'\n",
    "            which_dyad.append((individus[i],individus[j]))"
   ]
  },
  {
   "cell_type": "code",
   "execution_count": 12,
   "metadata": {
    "jupyter": {
     "source_hidden": true
    }
   },
   "outputs": [],
   "source": [
    "test =[]\n",
    "for i in range(0,len(individus)):\n",
    "    for j in range(0,len(individus)):\n",
    "        test.append(colors[i][j])"
   ]
  },
  {
   "cell_type": "code",
   "execution_count": 13,
   "metadata": {
    "collapsed": true,
    "jupyter": {
     "outputs_hidden": true,
     "source_hidden": true
    }
   },
   "outputs": [
    {
     "data": {
      "text/plain": [
       "(-0.2, 0.5)"
      ]
     },
     "execution_count": 13,
     "metadata": {},
     "output_type": "execute_result"
    }
   ],
   "source": [
    "from mpl_toolkits import mplot3d\n",
    "fig = plt.figure(figsize=(8,6))\n",
    "ax3d = plt.axes(projection=\"3d\")\n",
    "x = np.arange(len(individus))\n",
    "y = np.arange(len(individus))\n",
    "X, Y = np.meshgrid(x,y)\n",
    "ax3d.plot_surface(X,Y, bottom, color='steelblue', alpha = 0.3)\n",
    "ax3d.plot_surface(X,Y, top, color='steelblue', alpha = 0.3)\n",
    "ax3d.scatter3D(X,Y,true_matrix, c=test)\n",
    "ax3d.set_zlim(-0.2,0.5)"
   ]
  },
  {
   "cell_type": "markdown",
   "metadata": {},
   "source": [
    "# for threshold"
   ]
  },
  {
   "cell_type": "code",
   "execution_count": 24,
   "metadata": {},
   "outputs": [],
   "source": [
    "mc.plot.heatmap(dis_mat, rhesus, color = 'Purples', save = True, name_save = 'affiliative_heatmap_not_thresholded', path = 'C:/Users/maell/Documents/ENS/Cours/Césure/Stage_Sliwa/Strasbourg/Figures/Figures_rhesus/figures/')"
   ]
  },
  {
   "cell_type": "code",
   "execution_count": null,
   "metadata": {},
   "outputs": [],
   "source": [
    "mc.plot.heatmap(mat_t, rhesus, color = 'Purples', save = True, name_save = 'affiliative_heatmap_thresholded', path = 'C:/Users/maell/Documents/ENS/Cours/Césure/Stage_Sliwa/Strasbourg/Figures/Figures_rhesus/figures/')"
   ]
  },
  {
   "cell_type": "code",
   "execution_count": 13,
   "metadata": {},
   "outputs": [],
   "source": [
    "mc.plot.heatmap(mat_b, rhesus, color = 'Purples', save = True, name_save = 'affiliative_heatmap_thresholded_b', path = 'C:/Users/maell/Documents/ENS/Cours/Césure/Stage_Sliwa/Strasbourg/Figures/Figures_rhesus/figures/')"
   ]
  },
  {
   "cell_type": "code",
   "execution_count": 20,
   "metadata": {},
   "outputs": [],
   "source": [
    "mc.plot.network(mat_b, rhesus, 'Purples', 'Centrality', images= True, save = True, title = \"thresholded_binary\", path = 'C:/Users/maell/Documents/ENS/Cours/Césure/Stage_Sliwa/Strasbourg/Figures/Figures_rhesus/figures/')"
   ]
  },
  {
   "cell_type": "code",
   "execution_count": 91,
   "metadata": {},
   "outputs": [],
   "source": [
    "mc.plot.network(mat_t, rhesus, 'Purples', 'Centrality', images= True, other_matrix = matrix_kinship_rhesus, save = True, title = \"affiliative_thresholded_kinship_layout\", path = 'C:/Users/maell/Documents/ENS/Cours/Césure/Stage_Sliwa/Strasbourg/Figures/Figures_rhesus/figures/')"
   ]
  },
  {
   "cell_type": "code",
   "execution_count": 85,
   "metadata": {},
   "outputs": [],
   "source": [
    "for i in range(len(matrix_kinship_rhesus)):\n",
    "    for j in range(len(matrix_kinship_rhesus)):\n",
    "        if matrix_kinship_rhesus[i][j]<0.5:\n",
    "            matrix_kinship_rhesus[i][j] = 0"
   ]
  },
  {
   "cell_type": "code",
   "execution_count": 61,
   "metadata": {},
   "outputs": [],
   "source": [
    "matrix_kinship_rhesus.columns = np.linspace(0,17, 18)"
   ]
  },
  {
   "cell_type": "code",
   "execution_count": 65,
   "metadata": {},
   "outputs": [],
   "source": [
    "matrix_kinship_rhesus.index = np.linspace(0,17, 18)"
   ]
  },
  {
   "cell_type": "markdown",
   "metadata": {},
   "source": [
    "# Tests"
   ]
  },
  {
   "cell_type": "code",
   "execution_count": 9,
   "metadata": {},
   "outputs": [],
   "source": [
    "dis_mat = np.load('C:/Users/maell/Documents/ENS/Cours/Césure/Stage_Sliwa/Strasbourg/Code/Rhesus/mat_affiliative.npy')"
   ]
  },
  {
   "cell_type": "code",
   "execution_count": 10,
   "metadata": {},
   "outputs": [],
   "source": [
    "test = mc.compute.dis_matrix_global(dis_mat, rhesus, mc.compute.func_social_distance)"
   ]
  },
  {
   "cell_type": "code",
   "execution_count": 12,
   "metadata": {},
   "outputs": [],
   "source": [
    "a = np.zeros((2,2))"
   ]
  },
  {
   "cell_type": "code",
   "execution_count": 18,
   "metadata": {},
   "outputs": [],
   "source": [
    "b = np.delete(a, [1,1], 1)"
   ]
  },
  {
   "cell_type": "code",
   "execution_count": 19,
   "metadata": {},
   "outputs": [
    {
     "data": {
      "text/plain": [
       "array([[0.],\n",
       "       [0.]])"
      ]
     },
     "execution_count": 19,
     "metadata": {},
     "output_type": "execute_result"
    }
   ],
   "source": [
    "b"
   ]
  },
  {
   "cell_type": "code",
   "execution_count": 11,
   "metadata": {},
   "outputs": [],
   "source": [
    "mat = np.zeros(shape=(len(rhesus), len(rhesus))) #initialisation of the dissimilarity matrix\n",
    "g = nx.Graph(dis_mat)\n",
    "all_values = mc.compute.func_centrality(g)\n",
    "for i in range(len(mat)):\n",
    "    for j in range(len(mat)):\n",
    "        mat[i,j] = abs(all_values[i]-all_values[j])"
   ]
  },
  {
   "cell_type": "code",
   "execution_count": null,
   "metadata": {},
   "outputs": [],
   "source": []
  },
  {
   "cell_type": "code",
   "execution_count": 7,
   "metadata": {},
   "outputs": [],
   "source": [
    "function = mc.compute.func_social_distance"
   ]
  },
  {
   "cell_type": "code",
   "execution_count": 8,
   "metadata": {},
   "outputs": [
    {
     "data": {
      "text/plain": [
       "<function mc.compute.<lambda>(x)>"
      ]
     },
     "execution_count": 8,
     "metadata": {},
     "output_type": "execute_result"
    }
   ],
   "source": [
    "function"
   ]
  },
  {
   "cell_type": "code",
   "execution_count": 45,
   "metadata": {},
   "outputs": [],
   "source": [
    "centrality = lambda x : nx.eigenvector_centrality(x)"
   ]
  },
  {
   "cell_type": "code",
   "execution_count": 31,
   "metadata": {},
   "outputs": [],
   "source": [
    "def test(variable, func):\n",
    "    print(func(variable))"
   ]
  },
  {
   "cell_type": "code",
   "execution_count": 32,
   "metadata": {},
   "outputs": [
    {
     "name": "stdout",
     "output_type": "stream",
     "text": [
      "{0: 0.17318481982748382, 1: 0.3103367520219675, 2: 0.12391918336622716, 3: 0.20100447026048338, 4: 0.4410277563504679, 5: 0.18543949759739278, 6: 0.12391918336622719, 7: 0.27099845042403264, 8: 0.05641292356987046, 9: 0.37271898235489764, 10: 0.3562970762543813, 11: 0.2043340132912915, 12: 0.10290010495156894, 13: 0.05641292356987046, 14: 0.24777275603809273, 15: 0.05119608428559101, 16: 0.3103367520219675, 17: 0.12391918336622719}\n"
     ]
    }
   ],
   "source": [
    "test(nx.Graph(dis_mat), centrality)"
   ]
  },
  {
   "cell_type": "code",
   "execution_count": 77,
   "metadata": {},
   "outputs": [],
   "source": [
    "dissimilarity_matrix_affiliative_t = compute_dis_matrix_individual(matrix_affiliative, individus, 'Theoden', type_dis='Social distance')"
   ]
  },
  {
   "cell_type": "code",
   "execution_count": 78,
   "metadata": {},
   "outputs": [
    {
     "name": "stderr",
     "output_type": "stream",
     "text": [
      "C:\\Users\\maell\\anaconda3\\lib\\site-packages\\seaborn\\matrix.py:619: ClusterWarning: scipy.cluster: The symmetric non-negative hollow observation matrix looks suspiciously like an uncondensed distance matrix\n",
      "  linkage = hierarchy.linkage(self.array, method=self.method,\n"
     ]
    },
    {
     "data": {
      "text/plain": [
       "<seaborn.matrix.ClusterGrid at 0x22e44a67490>"
      ]
     },
     "execution_count": 78,
     "metadata": {},
     "output_type": "execute_result"
    }
   ],
   "source": [
    "sns.clustermap(dissimilarity_matrix_affiliative_t)"
   ]
  },
  {
   "cell_type": "code",
   "execution_count": 150,
   "metadata": {},
   "outputs": [],
   "source": [
    "from scipy.sparse import csr_matrix\n",
    "from scipy.sparse.csgraph import reverse_cuthill_mckee\n",
    "from scipy.cluster.hierarchy import fcluster, ward\n",
    "from scipy.spatial.distance import pdist, squareform"
   ]
  },
  {
   "cell_type": "code",
   "execution_count": 155,
   "metadata": {},
   "outputs": [],
   "source": [
    "condensed_matrix = pdist(matrix_binary_affiliative)"
   ]
  },
  {
   "cell_type": "code",
   "execution_count": 158,
   "metadata": {},
   "outputs": [],
   "source": [
    "a = ward(condensed_matrix)"
   ]
  },
  {
   "cell_type": "code",
   "execution_count": 161,
   "metadata": {},
   "outputs": [],
   "source": [
    "dissimilarity_matrix = compute_dis_matrix(matrix_binary_affiliative, individuals=individus, id_scan='Theoden', type_dis='Social distance')"
   ]
  },
  {
   "cell_type": "code",
   "execution_count": 165,
   "metadata": {},
   "outputs": [],
   "source": [
    "d = fcluster(a, t=0.0005, criterion='distance')"
   ]
  },
  {
   "cell_type": "code",
   "execution_count": 166,
   "metadata": {},
   "outputs": [],
   "source": [
    "d = d- 1"
   ]
  },
  {
   "cell_type": "code",
   "execution_count": 167,
   "metadata": {},
   "outputs": [
    {
     "data": {
      "text/plain": [
       "array([ 9,  4,  2, 13,  0, 10, 16,  3, 15, 12, 14,  6,  7,  1,  8, 11,  5,\n",
       "       17], dtype=int32)"
      ]
     },
     "execution_count": 167,
     "metadata": {},
     "output_type": "execute_result"
    }
   ],
   "source": [
    "d"
   ]
  },
  {
   "cell_type": "code",
   "execution_count": 66,
   "metadata": {},
   "outputs": [],
   "source": [
    "test = csr_matrix(bla)"
   ]
  },
  {
   "cell_type": "code",
   "execution_count": 67,
   "metadata": {},
   "outputs": [],
   "source": [
    "t = reverse_cuthill_mckee(test)"
   ]
  },
  {
   "cell_type": "code",
   "execution_count": 169,
   "metadata": {},
   "outputs": [
    {
     "ename": "IndexError",
     "evalue": "index 17 is out of bounds for axis 0 with size 17",
     "output_type": "error",
     "traceback": [
      "\u001b[1;31m---------------------------------------------------------------------------\u001b[0m",
      "\u001b[1;31mIndexError\u001b[0m                                Traceback (most recent call last)",
      "\u001b[1;32m<ipython-input-169-23f5104ecf07>\u001b[0m in \u001b[0;36m<module>\u001b[1;34m\u001b[0m\n\u001b[1;32m----> 1\u001b[1;33m \u001b[0mmat\u001b[0m \u001b[1;33m=\u001b[0m \u001b[0mdissimilarity_matrix\u001b[0m\u001b[1;33m[\u001b[0m\u001b[0md\u001b[0m\u001b[1;33m]\u001b[0m\u001b[1;33m[\u001b[0m\u001b[0md\u001b[0m\u001b[1;33m]\u001b[0m\u001b[1;33m\u001b[0m\u001b[1;33m\u001b[0m\u001b[0m\n\u001b[0m",
      "\u001b[1;31mIndexError\u001b[0m: index 17 is out of bounds for axis 0 with size 17"
     ]
    }
   ],
   "source": [
    "mat = dissimilarity_matrix[d][d]"
   ]
  },
  {
   "cell_type": "code",
   "execution_count": 154,
   "metadata": {},
   "outputs": [],
   "source": [
    "plot_heatmap(mat, individuals=individus, color='Purples', labels=False)"
   ]
  },
  {
   "cell_type": "code",
   "execution_count": 59,
   "metadata": {},
   "outputs": [],
   "source": [
    "plot_heatmap(dissimilarity_matrix, individuals=individus, color='Purples', labels=False)"
   ]
  },
  {
   "cell_type": "code",
   "execution_count": 9,
   "metadata": {},
   "outputs": [
    {
     "ename": "NameError",
     "evalue": "name 'dissimilarity_matrix_kinship_b' is not defined",
     "output_type": "error",
     "traceback": [
      "\u001b[1;31m---------------------------------------------------------------------------\u001b[0m",
      "\u001b[1;31mNameError\u001b[0m                                 Traceback (most recent call last)",
      "\u001b[1;32m<ipython-input-9-93a201e215ed>\u001b[0m in \u001b[0;36m<module>\u001b[1;34m\u001b[0m\n\u001b[1;32m----> 1\u001b[1;33m \u001b[0mneural_matrix_b\u001b[0m \u001b[1;33m=\u001b[0m \u001b[0mdissimilarity_matrix_kinship_b\u001b[0m \u001b[1;33m+\u001b[0m \u001b[0mdissimilarity_matrix_centrality_b\u001b[0m \u001b[1;33m+\u001b[0m \u001b[0mdissimilarity_matrix_constraint_b\u001b[0m \u001b[1;33m+\u001b[0m \u001b[0mdissimilarity_matrix_affiliative_b\u001b[0m \u001b[1;33m+\u001b[0m \u001b[0mmatrix_domination_b\u001b[0m\u001b[1;33m\u001b[0m\u001b[1;33m\u001b[0m\u001b[0m\n\u001b[0m\u001b[0;32m      2\u001b[0m \u001b[1;33m\u001b[0m\u001b[0m\n\u001b[0;32m      3\u001b[0m \u001b[0mneural_matrix_t\u001b[0m \u001b[1;33m=\u001b[0m \u001b[0mdissimilarity_matrix_kinship_t\u001b[0m \u001b[1;33m+\u001b[0m \u001b[0mdissimilarity_matrix_centrality_t\u001b[0m \u001b[1;33m+\u001b[0m \u001b[0mdissimilarity_matrix_constraint_t\u001b[0m \u001b[1;33m+\u001b[0m \u001b[0mdissimilarity_matrix_affiliative_t\u001b[0m \u001b[1;33m+\u001b[0m \u001b[0mmatrix_domination_t\u001b[0m\u001b[1;33m\u001b[0m\u001b[1;33m\u001b[0m\u001b[0m\n\u001b[0;32m      4\u001b[0m \u001b[1;33m\u001b[0m\u001b[0m\n\u001b[0;32m      5\u001b[0m \u001b[0mneural_matrix_f\u001b[0m \u001b[1;33m=\u001b[0m \u001b[0mdissimilarity_matrix_kinship_f\u001b[0m \u001b[1;33m+\u001b[0m \u001b[0mdissimilarity_matrix_centrality_f\u001b[0m \u001b[1;33m+\u001b[0m \u001b[0mdissimilarity_matrix_constraint_f\u001b[0m \u001b[1;33m+\u001b[0m \u001b[0mdissimilarity_matrix_affiliative_f\u001b[0m \u001b[1;33m+\u001b[0m \u001b[0mmatrix_domination_f\u001b[0m\u001b[1;33m\u001b[0m\u001b[1;33m\u001b[0m\u001b[0m\n",
      "\u001b[1;31mNameError\u001b[0m: name 'dissimilarity_matrix_kinship_b' is not defined"
     ]
    }
   ],
   "source": [
    "neural_matrix_b = dissimilarity_matrix_kinship_b + dissimilarity_matrix_centrality_b + dissimilarity_matrix_constraint_b + dissimilarity_matrix_affiliative_b + matrix_domination_b\n",
    "\n",
    "neural_matrix_t = dissimilarity_matrix_kinship_t + dissimilarity_matrix_centrality_t + dissimilarity_matrix_constraint_t + dissimilarity_matrix_affiliative_t + matrix_domination_t\n",
    "\n",
    "neural_matrix_f = dissimilarity_matrix_kinship_f + dissimilarity_matrix_centrality_f + dissimilarity_matrix_constraint_f + dissimilarity_matrix_affiliative_f + matrix_domination_f"
   ]
  },
  {
   "cell_type": "code",
   "execution_count": 78,
   "metadata": {},
   "outputs": [],
   "source": [
    "import collections\n",
    "g = nx.Graph(matrix_affiliative)\n",
    "\n",
    "degree_sequence = sorted([d for n, d in g.degree()], reverse=True)  \n",
    "degreeCount = collections.Counter(degree_sequence)\n",
    "deg, cnt = zip(*degreeCount.items())\n",
    "\n",
    "fig, ax = plt.subplots()\n",
    "plt.bar(deg, cnt, width=0.80, color=\"b\")\n",
    "plt.xlabel('number of connexions')\n",
    "plt.ylabel('number of individuals')\n",
    "plt.savefig('repartition_degree')"
   ]
  },
  {
   "cell_type": "markdown",
   "metadata": {},
   "source": [
    "# Trash "
   ]
  },
  {
   "cell_type": "code",
   "execution_count": 71,
   "metadata": {},
   "outputs": [],
   "source": [
    "data = pd.read_csv(fichiers[0], sep=';', encoding=\"latin-1\")\n",
    "data_tmp = pd.DataFrame(columns=data.columns)\n",
    "for i in np.unique(data['Observation date']):\n",
    "    data_day = data[data['Observation date']==i]\n",
    "    for j in np.unique(data_day['Subject']):\n",
    "        data_day_subject = data_day[data_day['Subject']==j]\n",
    "        order = np.argsort(data_day_subject.Start)\n",
    "        data_tmp = pd.concat([data_tmp,data_day_subject.iloc[order]])"
   ]
  },
  {
   "cell_type": "code",
   "execution_count": 5,
   "metadata": {
    "jupyter": {
     "source_hidden": true
    }
   },
   "outputs": [],
   "source": [
    "def compute_dis_matrix_global(matrix, individuals, type_dis):\n",
    "    \"\"\" \n",
    "    MC 23/03/21\n",
    "    Inputs\n",
    "        matrix : matrix from which to compute dissimilarity\n",
    "        individuals : list of all the individuals in the colony\n",
    "        type_dis : 'Social distance', 'Centrality', 'Constraint', \n",
    "    Outputs\n",
    "        dissimilarity matrix (numpy array)\n",
    "    \"\"\"\n",
    "    dis_matrix = np.zeros(shape=(len(individuals), len(individuals)))\n",
    "    g = nx.Graph(matrix)\n",
    "    if type_dis == 'Social distance':\n",
    "        all_values = dict(nx.all_pairs_shortest_path_length(g))\n",
    "    if type_dis == 'Centrality':\n",
    "        all_values = nx.eigenvector_centrality(g)\n",
    "    if type_dis == 'Constraint':\n",
    "        all_values = nx.constraint(g)\n",
    "            \n",
    "    for i in range(len(dis_matrix)):\n",
    "        for j in range(len(dis_matrix)):\n",
    "            if type_dis == 'Social distance':\n",
    "                dis_matrix[i,j] = all_values[i][j]\n",
    "            else:\n",
    "                dis_matrix[i,j] = abs(all_values[i]-all_values[j])\n",
    "    return dis_matrix"
   ]
  },
  {
   "cell_type": "code",
   "execution_count": null,
   "metadata": {
    "jupyter": {
     "source_hidden": true
    }
   },
   "outputs": [],
   "source": [
    "def compute_dsi(list_of_b, type_of_b, ind, rand=False,giv=None, rece=None, fichiers=fichiers):\n",
    "    \"\"\"\n",
    "    MC 07/04/21\n",
    "    Inputs :\n",
    "        list_of_b : list of behaviors on which to compute the DSI\n",
    "        type_of_b : type of behaviors, can be : 'Affiliative', 'Aggressive', 'Proximity'\n",
    "        ind : individus from which to compute the DSI\n",
    "        rand : True if we want to calculate random matrices for bootstrap, by default = False\n",
    "        giv : givers individus from which to compute the DSI\n",
    "        rece : receivers individus from which to compute the DSI\n",
    "        fichiers : where the data are stored (by default = fichiers)\n",
    "        \n",
    "    Outputs:\n",
    "        matrix of DSI for each dyad\n",
    "    \"\"\"\n",
    "    if type_of_b == 'Proximity':\n",
    "        return ('Not implemented yet')\n",
    "    if rand == False:\n",
    "        giv = ind\n",
    "        rece = ind\n",
    "    means_b = np.zeros(shape=(1,len(list_of_b)))\n",
    "    matrices_b = { str(i) : np.zeros(shape=(len(ind), len(ind))) for i in list_of_b}\n",
    "    matrix = np.zeros(shape=(len(ind), len(ind)))\n",
    "    for b in list_of_b:\n",
    "        total = 0 \n",
    "        for fichier in fichiers :\n",
    "            data=pd.read_csv(fichier, sep=';', encoding=\"latin-1\")\n",
    "            \n",
    "            for rang in range(len(data)):\n",
    "                givers = []\n",
    "                receivers = []\n",
    "                \n",
    "                \n",
    "                if data.Behavior[rang] == b :\n",
    "                    \n",
    "                    if type_of_b == 'Aggressive':\n",
    "                        if 'Focal est recepteur' in str(data.Modifiers[rang]):\n",
    "                            for i in ind:\n",
    "                                if i in str(data.Modifiers[rang]):\n",
    "                                    givers.append(i)\n",
    "                            receivers.append(data.Subject[rang])\n",
    "                        if 'Focal est emetteur' in str(data.Modifiers[rang]):\n",
    "                            givers.append(data.Subject[rang])\n",
    "                            for i in ind:\n",
    "                                if i in str(data.Modifiers[rang]):\n",
    "                                    receivers.append(i)\n",
    "                                    \n",
    "                    if type_of_b == 'Affiliative':\n",
    "                        for i in ind:\n",
    "                            if i in str(data.Modifiers[rang]):\n",
    "                                givers.append(i)\n",
    "                        receivers.append(data.Subject[rang])\n",
    "                    \n",
    "                    \n",
    "                for i in givers:\n",
    "                    for j in receivers:  \n",
    "                        matrices_b[b][giv.index(i),rece.index(j)]+=1\n",
    "                        if type_of_b == 'Affiliative':\n",
    "                            matrices_b[b][giv.index(j),rece.index(i)]+=1\n",
    "                        total += 1 \n",
    "                \n",
    "        means_b[0][list_of_b.index(b)] = np.mean(matrices_b[b])\n",
    "        matrices_b[b] = (matrices_b[b]/total)/means_b[0][list_of_b.index(b)]\n",
    "        matrix += matrices_b[b]\n",
    "        \n",
    "    matrix = matrix/len(list_of_b)\n",
    "    return matrix"
   ]
  },
  {
   "cell_type": "code",
   "execution_count": 12,
   "metadata": {
    "jupyter": {
     "source_hidden": true
    }
   },
   "outputs": [],
   "source": [
    "path = 'C:/Users/maell/Documents/ENS/Cours/Césure/Stage_Sliwa/Strasbourg/Code/Individus/'\n",
    "files = [f for f in glob.glob(path + \"*.png\")]\n",
    "\n",
    "img = []\n",
    "for f in files:\n",
    "    img.append(mpimg.imread(f))\n",
    "\n",
    "dict_names = { i : individus[i] for i in range(0, len(individus) ) }\n",
    "fig, ax = plt.subplots(figsize=(20,20))\n",
    "g = nx.Graph(matrix_binary_affiliative)\n",
    "constraint = nx.constraint(g)\n",
    "centrality = nx.eigenvector_centrality(g)\n",
    "distance = nx.single_source_shortest_path_length(g, individus.index('Theoden'))\n",
    "pos=nx.kamada_kawai_layout(g)\n",
    "nx.draw_networkx_edges(g,pos)\n",
    "plt.axis('off')\n",
    "plt.xlim([-1,1])\n",
    "plt.ylim([-1,1])\n",
    "\n",
    "ax=plt.gca()\n",
    "fig=plt.gcf()\n",
    "trans = ax.transData.transform\n",
    "trans2 = fig.transFigure.inverted().transform\n",
    "imsize = 0.07\n",
    "cNorm  = colors.Normalize(vmin=min(constraint), vmax=max(constraint))\n",
    "scalarMap = cmx.ScalarMappable(norm=cNorm, cmap='Greens')\n",
    "for n in g.nodes():\n",
    "    (x,y) = pos[n]\n",
    "    xx,yy = trans((x,y))\n",
    "    xa,ya = trans2((xx,yy))\n",
    "    b = plt.axes([xa-(imsize+0.02)/2.0,ya-(imsize+0.02)/2.0, imsize+0.02, imsize+0.02 ])\n",
    "    z= np.zeros((img[n].shape[0]+50, img[n].shape[1]+50,3))\n",
    "    colorVal = scalarMap.to_rgba(constraint[n])\n",
    "    z[:,:,0] = colorVal[0]\n",
    "    z[:,:,1] = colorVal[1]\n",
    "    z[:,:,2] = colorVal[2]\n",
    "    b.imshow(z)\n",
    "    b.axis('off')\n",
    "    a = plt.axes([xa-imsize/2.0,ya-imsize/2.0, imsize, imsize ])\n",
    "    a.imshow(img[n])\n",
    "    a.set_aspect('equal')\n",
    "    a.axis('off')\n",
    "    plt.savefig('C:/Users/maell/Documents/ENS/Cours/Césure/Stage_Sliwa/Strasbourg/Code/Figures/network_2.png')"
   ]
  },
  {
   "cell_type": "code",
   "execution_count": 6,
   "metadata": {
    "jupyter": {
     "source_hidden": true
    }
   },
   "outputs": [],
   "source": [
    "def compute_dis_matrix_individual(matrix, individuals, id_scan, type_dis):\n",
    "    \"\"\" \n",
    "    MC 23/03/21\n",
    "    Inputs\n",
    "        matrix : matrix from which to compute dissimilarity\n",
    "        individuals : list of all the individuals in the colony\n",
    "        id_scan : name of the individual scanned\n",
    "        type_dis : 'Social distance', 'Centrality', 'Constraint', 'Kinship'\n",
    "    Outputs\n",
    "        dissimilarity matrix (numpy array)\n",
    "    \"\"\"\n",
    "    dis_matrix = np.zeros(shape=(len(individuals), len(individuals)))\n",
    "    if type_dis == 'Kinship':\n",
    "        values = matrix[individuals.index(id_scan)]\n",
    "    else :\n",
    "        g = nx.Graph(matrix)\n",
    "        if type_dis == 'Social distance':\n",
    "            values = nx.shortest_path_length(g, individuals.index(id_scan))\n",
    "        if type_dis == 'Centrality':\n",
    "            all_values = nx.eigenvector_centrality(g)\n",
    "            value = all_values[individuals.index(id_scan)]\n",
    "        if type_dis == 'Constraint':\n",
    "            all_values = nx.constraint(g)\n",
    "            value = all_values[individuals.index(id_scan)]\n",
    "            \n",
    "    for i in range(len(dis_matrix)):\n",
    "        for j in range(len(dis_matrix)):\n",
    "            if type_dis == 'Social distance' or type_dis == 'Kinship':\n",
    "                dis_matrix[i,j] = abs(values[i]-values[j])\n",
    "            else:\n",
    "                dis_matrix[i,j] = abs((all_values[i]-value)-(all_values[j]-value))\n",
    "    dis_matrix = np.delete(dis_matrix, individuals.index(id_scan), 1)\n",
    "    dis_matrix = np.delete(dis_matrix, individuals.index(id_scan), 0)\n",
    "    return dis_matrix"
   ]
  },
  {
   "cell_type": "code",
   "execution_count": 55,
   "metadata": {
    "jupyter": {
     "source_hidden": true
    }
   },
   "outputs": [],
   "source": [
    "a = np.zeros(shape=(len(individus), len(individus)))\n",
    "for i in individus:\n",
    "    for j in individus:\n",
    "        a[individus.index(i),individus.index(j)]=t[individus.index(i)][individus.index(j)]\n",
    "fig, ax = plt.subplots(figsize=(7,7))\n",
    "sns.heatmap(a,xticklabels= False, yticklabels=False, cmap='Purples', linewidths=0.1, linecolor='black',  square=True, cbar_kws={'orientation': 'horizontal','shrink': 0.7})\n",
    "ax.invert_yaxis()\n",
    "plt.savefig('C:/Users/maell/Documents/ENS/Cours/Césure/Stage_Sliwa/Strasbourg/Code/Figures/social_distance.png', bbox_inches='tight', pad_inches = 0.5)\n"
   ]
  },
  {
   "cell_type": "code",
   "execution_count": 39,
   "metadata": {
    "jupyter": {
     "source_hidden": true
    }
   },
   "outputs": [],
   "source": [
    "color_plot = np.empty(shape=(len(individus), len(individus)),dtype=str)\n",
    "for i,name in enumerate(individus):\n",
    "    for j,n in enumerate(individus):\n",
    "        if genders[i]==genders[j]:\n",
    "            color_plot[i,j] = 'b'\n",
    "        else :\n",
    "            color_plot[i,j] = 'g'"
   ]
  },
  {
   "cell_type": "code",
   "execution_count": 31,
   "metadata": {
    "jupyter": {
     "source_hidden": true
    }
   },
   "outputs": [],
   "source": [
    "matrix_parente_rhesus = [[0,0.25,0.25,0.25,0.25,0.25,0,0.5,0.25,0,0.5,0.25,0.5,0,0.25,0,0.25,0.25],\n",
    "                  [0.25,0,0.25,0.25,0.25,0.25,0,0,0.25,0.5,0.25,0.25,0.5,0,0,0,0.5,0.25],\n",
    "                  [0.25,0.25,0,0.5,0.25,0.25,0.5,0,0.25,0,0.25,0.25,0.5,0.125,0.25,0,0.25,0.5],\n",
    "                  [0.25,0.25,0.5,0,0.25,0.25,0.5,0,0.25,0,0.25,0.25,0.5,0.125,0.25,0,0.25,0.5],\n",
    "                  [0.25,0.25,0.25,0.25,0,0.25,0,0,0.25,0,0.25,0.25,0.5,0,0.25,0,0.25,0.25],\n",
    "                  [0.25,0.25,0.25,0.25,0.25,0,0,0,0.25,0,0.25,0.25,0.5,0.125,0.5,0.5,0.25,0.25],\n",
    "                  [0,0,0.5,0.5,0,0,0,0,0.125,0,0,0.125,0,0.25,0,0,0,0.5],\n",
    "                  [0.5,0,0,0,0,0,0,0,0,0,0.5,0,0,0,0,0,0,0],\n",
    "                  [0.25,0.25,0.25,0.25,0.25,0.25,0.125,0,0,0,0.25,0.5,0.5,0.5,0.25,0.125,0.25,0.25],\n",
    "                  [0,0.5,0,0,0,0,0,0,0,0,0,0,0,0,0,0,0.5,0],\n",
    "                  [0.5,0.25,0.25,0.25,0.25,0.25,0,0.5,0.25,0,0,0.25,0.5,0,0.25,0,0.25,0.25],\n",
    "                  [0.25,0.25,0.25,0.25,0.25,0.25,0.125,0,0.5,0,0.25,0,0.5,0.5,0.25,0.125,0.25,0.25],\n",
    "                  [0.5,0.5,0.5,0.5,0.5,0.5,0,0,0.5,0,0.5,0.5,0,0,0.5,0,0.5,0.5], \n",
    "                  [0,0,0.125,0.125,0,0.125,0.25,0,0.5,0,0,0.5,0,0,0.125,0.25,0,0.125],\n",
    "                  [0.25,0.25,0.25,0.25,0.25,0.5,0,0,0.25,0,0.25,0.25,0.5,0.125,0,0.5,0.25,0.25],\n",
    "                  [0,0,0,0,0,0.5,0,0,0.125,0,0,0.125,0,0.25,0.5,0,0,0],\n",
    "                  [0.25,0.5,0.25,0.25,0.25,0.25,0,0,0.25,0.5,0.25,0.25,0.5,0,0.25,0,0,0.25],\n",
    "                  [0.25,0.25,0.5,0.5,0.25,0.25,0.5,0,0.25,0,0.25,0.25,0.5,0.125,0.25,0,0.25,0]]"
   ]
  },
  {
   "cell_type": "code",
   "execution_count": 34,
   "metadata": {
    "jupyter": {
     "source_hidden": true
    }
   },
   "outputs": [],
   "source": [
    "individuals = np.delete(individus, individus.index('Faramir'))\n",
    "fig, ax = plt.subplots(figsize=(7,7))\n",
    "sns.heatmap(dissimilarity_matrix_constraint_f, xticklabels= individuals, yticklabels=individuals, cmap='Greens', square=True, cbar_kws={'orientation': 'horizontal','shrink': 0.7})\n",
    "ax.invert_yaxis()\n",
    "plt.savefig('C:/Users/maell/Documents/ENS/Cours/Césure/Stage_Sliwa/Strasbourg/Code/Figures/matrix_dissimilarity_constraint_Faramir.png', bbox_inches='tight', pad_inches = 0.5) "
   ]
  },
  {
   "cell_type": "code",
   "execution_count": 4,
   "metadata": {
    "jupyter": {
     "source_hidden": true
    }
   },
   "outputs": [],
   "source": [
    "shape_genders = []\n",
    "color_genders = []\n",
    "for i in genders :\n",
    "    if i == 1:\n",
    "        shape_genders.append('s')\n",
    "        color_genders.append('y')\n",
    "    else:\n",
    "        shape_genders.append('o')\n",
    "        color_genders.append('g')"
   ]
  },
  {
   "cell_type": "code",
   "execution_count": 35,
   "metadata": {
    "jupyter": {
     "source_hidden": true
    }
   },
   "outputs": [],
   "source": [
    "matrix_affiliative = np.zeros(shape=(len(individus), len(individus)))\n",
    "for fichier in fichiers :\n",
    "    data=pd.read_csv(fichier, sep=';', encoding=\"latin-1\")\n",
    "    for rang in range(len(data)):\n",
    "        givers = []\n",
    "        receivers = []\n",
    "        if data.Behavior[rang] in affiliative_behavior or data.Behavior[rang] == '1 Debut Grooming' :\n",
    "            for i in individus:\n",
    "                if i in str(data.Modifiers[rang]):\n",
    "                    givers.append(i)\n",
    "            receivers.append(data.Subject[rang])\n",
    "        for i in givers:\n",
    "            for j in receivers:  \n",
    "                matrix_affiliative[individus.index(i)][individus.index(j)]+=1\n",
    "                matrix_affiliative[individus.index(j)][individus.index(i)]+=1\n",
    "                \n",
    "matrix_affiliative = abs(scipy.stats.zscore(matrix_affiliative, axis=None))"
   ]
  },
  {
   "cell_type": "code",
   "execution_count": 28,
   "metadata": {
    "jupyter": {
     "source_hidden": true
    }
   },
   "outputs": [],
   "source": [
    "def compute_matrix_proximity(list_of_b, ind, rand=False,giv=None, rece=None, fichiers=fichiers):\n",
    "    \"\"\"\n",
    "    MC 23/04/21 \n",
    "    Inputs :\n",
    "        list_of_b : list of the weight of each proximity\n",
    "        ind : individus from which to compute the DSI\n",
    "        rand : True if we want to calculate random matrices for bootstrap, by default = False\n",
    "        giv : givers individus from which to compute the DSI\n",
    "        rece : receivers individus from which to compute the DSI\n",
    "        fichiers : where the data are stored (by default = fichiers)\n",
    "        \n",
    "    Outputs:\n",
    "        matrix of proximity for each dyad\n",
    "    \"\"\"\n",
    "    if rand == False:\n",
    "        giv = ind\n",
    "        rece = ind\n",
    "    matrix = np.zeros(shape=(len(ind), len(ind)))\n",
    "    total = 0\n",
    "    for fichier in fichiers :\n",
    "        data=pd.read_csv(fichier, sep=';', encoding=\"latin-1\")\n",
    "        for rang in range(len(data)):\n",
    "            focal = data.Subject[rang]\n",
    "            if data.Behavior[rang] in list_of_b:\n",
    "                for i in ind:\n",
    "                    if i in str(data.Modifiers[rang]):\n",
    "                        matrix[ind.index(i)][ind.index(focal)]+=list_of_b[data.Behavior[rang]]\n",
    "                        matrix[ind.index(focal)][ind.index(i)]+=list_of_b[data.Behavior[rang]]\n",
    "                        total += 1\n",
    "\n",
    "    matrix = matrix/total\n",
    "    mean = np.mean(matrix)\n",
    "    matrix = matrix/mean\n",
    "    return matrix"
   ]
  },
  {
   "cell_type": "code",
   "execution_count": 102,
   "metadata": {
    "jupyter": {
     "source_hidden": true
    }
   },
   "outputs": [],
   "source": [
    "dissimilarity_matrix_affiliative = np.zeros(shape=(len(individus), len(individus)))\n",
    "values = matrix_affiliative[individus.index(ind_scanned)]\n",
    "for i in range(len(dissimilarity_matrix_affiliative)):\n",
    "    for j in range(len(dissimilarity_matrix_affiliative)):\n",
    "        dissimilarity_matrix_affiliative[i,j] = abs(values[i]-values[j])\n",
    "dissimilarity_matrix_affiliative = np.delete(dissimilarity_matrix_affiliative, individus.index(ind_scanned), 1)\n",
    "dissimilarity_matrix_affiliative = np.delete(dissimilarity_matrix_affiliative, individus.index(ind_scanned), 0)"
   ]
  },
  {
   "cell_type": "code",
   "execution_count": 7,
   "metadata": {
    "jupyter": {
     "source_hidden": true
    }
   },
   "outputs": [],
   "source": [
    "def plot_heatmap(matrix, individuals, color, id_scan=None, save = False, name_save = None, labels=True, an=False):\n",
    "    \"\"\" \n",
    "    MC 24/03/21\n",
    "    Inputs \n",
    "        matrix : matrix to be plotted\n",
    "        individuals : list of all the individuals of the colony\n",
    "        color : color of the map\n",
    "        id_scan : name of the individual scanned if dissimilarity matrix, by default = None\n",
    "        save : True if you want to save the picture, by default = False\n",
    "        name_save : the name of the figure saved (be careful to give a name if you write save = True !)\n",
    "        labels : if you want the name of the individuals to be plotted, by default = True\n",
    "    Outputs\n",
    "        plot of the heatmap\n",
    "        plot saved if save = True \n",
    "    \"\"\"\n",
    "    \n",
    "    fig, ax = plt.subplots(figsize=(7,7))\n",
    "    if id_scan != None:\n",
    "        individuals = np.delete(individuals, individuals.index(id_scan))\n",
    "    if labels==True:\n",
    "        labels = individuals\n",
    "    sns.heatmap(matrix,vmin=np.min(matrix), vmax=np.max(matrix),xticklabels=labels, yticklabels=labels, cmap=color, annot=an, linewidths=0.1, linecolor='black',  square=True, cbar_kws={'orientation': 'horizontal','shrink': 0.7})\n",
    "    ax.invert_yaxis()\n",
    "    if save == True:\n",
    "        plt.savefig('C:/Users/maell/Documents/ENS/Cours/Césure/Stage_Sliwa/Strasbourg/Code/Rhesus/Figures/'+ name_save + '.png', bbox_inches='tight', pad_inches = 0.5)\n",
    "            "
   ]
  },
  {
   "cell_type": "code",
   "execution_count": 12,
   "metadata": {
    "collapsed": true,
    "jupyter": {
     "outputs_hidden": true,
     "source_hidden": true
    }
   },
   "outputs": [
    {
     "ename": "NameError",
     "evalue": "name 'fichiers' is not defined",
     "output_type": "error",
     "traceback": [
      "\u001b[1;31m---------------------------------------------------------------------------\u001b[0m",
      "\u001b[1;31mNameError\u001b[0m                                 Traceback (most recent call last)",
      "\u001b[1;32m<ipython-input-12-ecdde77227a4>\u001b[0m in \u001b[0;36m<module>\u001b[1;34m\u001b[0m\n\u001b[1;32m----> 1\u001b[1;33m \u001b[1;32mdef\u001b[0m \u001b[0mcompute_dsi_aggressive\u001b[0m\u001b[1;33m(\u001b[0m\u001b[0mlist_of_b\u001b[0m\u001b[1;33m,\u001b[0m \u001b[0mind\u001b[0m\u001b[1;33m,\u001b[0m \u001b[0mrand\u001b[0m\u001b[1;33m=\u001b[0m\u001b[1;32mFalse\u001b[0m\u001b[1;33m,\u001b[0m\u001b[0mgiv\u001b[0m\u001b[1;33m=\u001b[0m\u001b[1;32mNone\u001b[0m\u001b[1;33m,\u001b[0m \u001b[0mrece\u001b[0m\u001b[1;33m=\u001b[0m\u001b[1;32mNone\u001b[0m\u001b[1;33m,\u001b[0m \u001b[0mfichiers\u001b[0m\u001b[1;33m=\u001b[0m\u001b[0mfichiers\u001b[0m\u001b[1;33m)\u001b[0m\u001b[1;33m:\u001b[0m\u001b[1;33m\u001b[0m\u001b[1;33m\u001b[0m\u001b[0m\n\u001b[0m\u001b[0;32m      2\u001b[0m     \"\"\"\n\u001b[0;32m      3\u001b[0m     \u001b[0mMC\u001b[0m \u001b[1;36m0\u001b[0m\u001b[1;36m7\u001b[0m\u001b[1;33m/\u001b[0m\u001b[1;36m0\u001b[0m\u001b[1;36m4\u001b[0m\u001b[1;33m/\u001b[0m\u001b[1;36m21\u001b[0m\u001b[1;33m\u001b[0m\u001b[1;33m\u001b[0m\u001b[0m\n\u001b[0;32m      4\u001b[0m     \u001b[0mInputs\u001b[0m \u001b[1;33m:\u001b[0m\u001b[1;33m\u001b[0m\u001b[1;33m\u001b[0m\u001b[0m\n\u001b[0;32m      5\u001b[0m         \u001b[0mlist_of_b\u001b[0m \u001b[1;33m:\u001b[0m \u001b[0mlist\u001b[0m \u001b[0mof\u001b[0m \u001b[0mbehaviors\u001b[0m \u001b[0mon\u001b[0m \u001b[0mwhich\u001b[0m \u001b[0mto\u001b[0m \u001b[0mcompute\u001b[0m \u001b[0mthe\u001b[0m \u001b[0mDSI\u001b[0m\u001b[1;33m\u001b[0m\u001b[1;33m\u001b[0m\u001b[0m\n",
      "\u001b[1;31mNameError\u001b[0m: name 'fichiers' is not defined"
     ]
    }
   ],
   "source": [
    "def compute_dsi_aggressive(list_of_b, ind, rand=False,giv=None, rece=None, fichiers=fichiers):\n",
    "    \"\"\"\n",
    "    MC 07/04/21\n",
    "    Inputs :\n",
    "        list_of_b : list of behaviors on which to compute the DSI\n",
    "        ind : individus from which to compute the DSI\n",
    "        rand : True if we want to calculate random matrices for bootstrap, by default = False\n",
    "        giv : givers individus from which to compute the DSI\n",
    "        rece : receivers individus from which to compute the DSI\n",
    "        fichiers : where the data are stored (by default = fichiers)\n",
    "        \n",
    "    Outputs:\n",
    "        matrix of DSI for each dyad\n",
    "    \"\"\"\n",
    "    if rand == False:\n",
    "        giv = ind\n",
    "        rece = ind\n",
    "    means_b = np.zeros(shape=(1,len(list_of_b)))\n",
    "    matrices_b = { str(i) : np.zeros(shape=(len(ind), len(ind))) for i in list_of_b}\n",
    "    matrix = np.zeros(shape=(len(ind), len(ind)))\n",
    "    total = { str(i) : 0 for i in list_of_b}\n",
    "    for fichier in fichiers :\n",
    "        data=pd.read_csv(fichier, sep=';', encoding=\"latin-1\")\n",
    "        for rang in range(len(data)):\n",
    "            givers = []\n",
    "            receivers = []\n",
    "            if data.Behavior[rang] in list_of_b :\n",
    "                if 'Focal est recepteur' in str(data.Modifiers[rang]):\n",
    "                    for i in ind:\n",
    "                        if i in str(data.Modifiers[rang]):\n",
    "                            givers.append(i)\n",
    "                    receivers.append(data.Subject[rang])\n",
    "                if 'Focal est emetteur' in str(data.Modifiers[rang]):\n",
    "                    givers.append(data.Subject[rang])\n",
    "                    for i in ind:\n",
    "                        if i in str(data.Modifiers[rang]):\n",
    "                            receivers.append(i)\n",
    "            for i in givers:\n",
    "                for j in receivers:  \n",
    "                    matrices_b[data.Behavior[rang]][giv.index(i),rece.index(j)]+=1\n",
    "                    total[data.Behavior[rang]] += 1 \n",
    "    for b in list_of_b:\n",
    "        matrices_b[b] = (matrices_b[b]/total[b])        \n",
    "        means_b[0][list_of_b.index(b)] = np.mean(matrices_b[b])\n",
    "        matrices_b[b] = matrices_b[b]/(means_b[0][list_of_b.index(b)])\n",
    "        matrix += matrices_b[b]\n",
    "        \n",
    "    matrix = matrix/len(list_of_b)\n",
    "    return matrix"
   ]
  },
  {
   "cell_type": "code",
   "execution_count": 12,
   "metadata": {
    "jupyter": {
     "source_hidden": true
    }
   },
   "outputs": [],
   "source": [
    "def compute_dsi(list_of_b, type_of_b, ind, fichiers=fichiers):\n",
    "    \"\"\"\n",
    "    MC 07/04/21\n",
    "    Inputs :\n",
    "        list_of_b : list of behaviors on which to compute the DSI\n",
    "        type_of_b : type of behaviors, can be : 'Affiliative', 'Aggressive', 'Proximity', 'Time'\n",
    "        ind : individus from which to compute the DSI\n",
    "        fichiers : where the data are stored (by default = fichiers)\n",
    "        \n",
    "    Outputs:\n",
    "        matrix of DSI for each dyad\n",
    "    \"\"\"\n",
    "    if type_of_b == 'Time' or type_of_b == 'Proximity':\n",
    "        return ('Not implemented yet')\n",
    "    \n",
    "    means_b = np.zeros(shape=(1,len(list_of_b)))\n",
    "    matrices_b = { str(i) : np.zeros(shape=(len(ind), len(ind))) for i in list_of_b}\n",
    "    matrix = np.zeros(shape=(len(ind), len(ind)))\n",
    "    for b in list_of_b:\n",
    "        total = 0 \n",
    "        for fichier in fichiers :\n",
    "            data=pd.read_csv(fichier, sep=';', encoding=\"latin-1\")\n",
    "            \n",
    "            for rang in range(len(data)):\n",
    "                givers = []\n",
    "                receivers = []\n",
    "                if data.Behavior[rang] == b :\n",
    "                    \n",
    "                    if type_of_b == 'Aggressive':\n",
    "                        if 'Focal est recepteur' in str(data.Modifiers[rang]):\n",
    "                            for i in ind:\n",
    "                                if i in str(data.Modifiers[rang]):\n",
    "                                    givers.append(i)\n",
    "                            receivers.append(data.Subject[rang])\n",
    "                        if 'Focal est emetteur' in str(data.Modifiers[rang]):\n",
    "                            givers.append(data.Subject[rang])\n",
    "                            for i in ind:\n",
    "                                if i in str(data.Modifiers[rang]):\n",
    "                                    receivers.append(i)\n",
    "                                    \n",
    "                    if type_of_b == 'Affiliative':\n",
    "                        for i in ind:\n",
    "                            if i in str(data.Modifiers[rang]):\n",
    "                                givers.append(i)\n",
    "                        receivers.append(data.Subject[rang])\n",
    "                    \n",
    "                for i in givers:\n",
    "                    for j in receivers:  \n",
    "                        matrices_b[b][ind.index(i),ind.index(j)]+=1\n",
    "                        if type_of_b == 'Affiliative':\n",
    "                            matrices_b[b][ind.index(j),ind.index(i)]+=1\n",
    "                        total += 1 \n",
    "                \n",
    "        means_b[0][list_of_b.index(b)] = np.mean(matrices_b[b])\n",
    "        matrices_b[b] = (matrices_b[b]/total)/means_b[0][list_of_b.index(b)]\n",
    "        matrix += matrices_b[b]\n",
    "        \n",
    "    matrix = matrix/len(list_of_b)\n",
    "    return matrix"
   ]
  },
  {
   "cell_type": "code",
   "execution_count": 44,
   "metadata": {
    "jupyter": {
     "source_hidden": true
    }
   },
   "outputs": [],
   "source": [
    "def compute_dsi_affiliative(list_of_b, ind, fichiers):\n",
    "    \"\"\"\n",
    "    MC 07/04/21 \n",
    "    Inputs :\n",
    "        list_of_b : list of behaviors on which to compute the DSI\n",
    "        ind : individus from which to compute the DSI\n",
    "        fichiers : where the data are stored\n",
    "        \n",
    "    Outputs:\n",
    "        matrix of DSI for each dyad\n",
    "    \"\"\"\n",
    "    means_b = {str(i) : 0 for i in list_of_b}\n",
    "    matrices_b = { str(i) : np.zeros(shape=(len(ind), len(ind))) for i in list_of_b}\n",
    "    matrices_nb_oc = { str(i) : np.zeros(shape=(len(ind), len(ind))) for i in list_of_b}\n",
    "    matrix = np.zeros(shape=(len(ind), len(ind)))\n",
    "    total = { str(i) : 0 for i in list_of_b}\n",
    "    nb_events = { str(i) : 0 for i in list_of_b}\n",
    "    for fichier in fichiers :\n",
    "        data=pd.read_excel(fichier)\n",
    "        for rang in range(len(data)):\n",
    "            focal = data.Subject[rang] #Pour chaque ligne, regarde l'individu pris en focal\n",
    "            if data.Behavior[rang] == '1 Debut Grooming' and data.Modifiers[rang]!='None': #si le behavior est du début de grooming\n",
    "                start = data['Start (s)'][rang] #Stocker le temps de départ de ce grooming\n",
    "                end=0\n",
    "                for i in range(rang, len(data)):\n",
    "                    if data.Behavior[i]=='2 Zone de Grooming':\n",
    "                        groomed = re.findall(r'\\d+', data.Modifiers[i])\n",
    "                        rang2 = i\n",
    "                        break\n",
    "                for j in range (rang2, len(data)):\n",
    "                    if data.Behavior[j] == '4 Fin Grooming':\n",
    "                        who = re.findall(r'\\d+', data.Modifiers[j])\n",
    "                        if who == groomed:\n",
    "                            end = data['Stop (s)'][j]\n",
    "                            break\n",
    "                if end !=0:\n",
    "                    duration = end - start\n",
    "                else:\n",
    "                    duration = 0 \n",
    "\n",
    "                for i in ind:\n",
    "                    if i in str(data.Modifiers[rang]):\n",
    "                        matrices_b['1 Debut Grooming'][ind.index(i),ind.index(focal)]+=duration\n",
    "                        matrices_nb_oc['1 Debut Grooming'][ind.index(i),ind.index(focal)]+= 1\n",
    "                        matrices_b['1 Debut Grooming'][ind.index(focal),ind.index(i)]+=duration\n",
    "                        matrices_nb_oc['1 Debut Grooming'][ind.index(focal),ind.index(i)]+= 1\n",
    "                        total['1 Debut Grooming'] += duration\n",
    "                        nb_events['1 Debut Grooming'] += 1\n",
    "\n",
    "\n",
    "            elif data.Behavior[rang] in list_of_b and data.Behavior[rang] != '1 Debut Grooming':\n",
    "                for i in ind:\n",
    "                    if i in str(data.Modifiers[rang]):\n",
    "                        matrices_b[data.Behavior[rang]][ind.index(i),ind.index(focal)]+=data['Duration (s)'][rang]\n",
    "                        matrices_nb_oc[data.Behavior[rang]][ind.index(i),ind.index(focal)]+= 1\n",
    "                        matrices_b[data.Behavior[rang]][ind.index(focal),ind.index(i)]+=data['Duration (s)'][rang]\n",
    "                        matrices_nb_oc[data.Behavior[rang]][ind.index(focal),ind.index(i)]+= 1\n",
    "                        total[data.Behavior[rang]] += data['Duration (s)'][rang]\n",
    "                        nb_events[data.Behavior[rang]] += 1\n",
    "                        \n",
    "    for b in list_of_b:\n",
    "        matrices_b[b][matrices_b[b] != 0]=matrices_b[b][matrices_b[b] != 0]/matrices_nb_oc[b][matrices_nb_oc[b] != 0]\n",
    "        nb_dyades = np.count_nonzero(matrices_b[b])/2\n",
    "        means_b[b] = total[b]/nb_events[b]\n",
    "        matrices_b[b] = matrices_b[b]/(means_b[b])\n",
    "        matrix += matrices_b[b]\n",
    "        \n",
    "    matrix = matrix/len(list_of_b)\n",
    "    return matrix"
   ]
  },
  {
   "cell_type": "code",
   "execution_count": 9,
   "metadata": {
    "jupyter": {
     "source_hidden": true
    }
   },
   "outputs": [],
   "source": [
    "def thresholed_matrix(matrix,step):\n",
    "    \"\"\"\n",
    "    MC 24/03/21\n",
    "    Inputs:\n",
    "        matrix : matrix to threshold\n",
    "        step : the step by which to increase the threshold\n",
    "    Outputs:\n",
    "        matrix thresholed, threshold\n",
    "    \"\"\"\n",
    "    m_t = matrix\n",
    "    g = nx.Graph(m_t)\n",
    "    degree = g.degree()\n",
    "    m = np.mean([v for k, v in degree])\n",
    "    threshold = 0\n",
    "    while m > 3:\n",
    "        threshold += step\n",
    "        for i in range(len(m_t)):\n",
    "            for j in range(len(m_t)):\n",
    "                if m_t[i][j] < threshold :\n",
    "                    m_t[i][j] = 0\n",
    "                    g = nx.Graph(m_t)\n",
    "                    degree = g.degree()\n",
    "                    m = np.mean([v for k, v in degree])\n",
    "                    \n",
    "    return m_t, threshold\n",
    "    "
   ]
  },
  {
   "cell_type": "code",
   "execution_count": 8,
   "metadata": {
    "jupyter": {
     "source_hidden": true
    }
   },
   "outputs": [],
   "source": [
    "def plot_network(matrix, individuals, node_colors, network_type, other_matrix=None, title='Social_Network', ind=False, images=False, save = False, path=None):\n",
    "    \"\"\"\n",
    "    MC 24/03/21\n",
    "    Inputs :\n",
    "        matrix : the matrix on which the network is based\n",
    "        individuals : list of all the individuals of the colony \n",
    "        node_colors : list of the colors of all the nodes \n",
    "        network_type : 'Constraint', 'Centrality', 'Social distance'\n",
    "        other_matrix : if we want a layout based on another matrix than the affiliative matrix, by default = False\n",
    "        title : title of the network (NO SPACE PLS), by default = 'Social_Network'\n",
    "        ind : the individual on which to calculate the social distance, by default = False\n",
    "        images : if you want the pictures of the individuals plotted on the graph, by default = False\n",
    "        save : True if you want to save the figure, by default = False\n",
    "        path : path to the directory where to save the figure, by default = None \n",
    "        (if None, save in the same directory as the code)\n",
    "    Outputs :\n",
    "        plot of the network\n",
    "        plot saved if save = True\n",
    "    \"\"\"\n",
    "    if images:\n",
    "        path_images = 'C:/Users/maell/Documents/ENS/Cours/Césure/Stage_Sliwa/Strasbourg/Code/Tonk/Individus/'\n",
    "        files = [f for f in glob.glob(path_images + \"*.png\")]\n",
    "        img = []\n",
    "        for f in files:\n",
    "            img.append(mpimg.imread(f))\n",
    "    if other_matrix == None:\n",
    "        other_matrix=matrix\n",
    "    dict_names = { i : individuals[i] for i in range(0, len(individuals))}\n",
    "    fig, ax = plt.subplots(figsize=(20,20))\n",
    "    g = nx.Graph(other_matrix)\n",
    "    h = nx.Graph(matrix)\n",
    "    if network_type == 'Constraint':\n",
    "        value = nx.constraint(h)\n",
    "        color = 'Greens'\n",
    "    if network_type == 'Centrality':\n",
    "        value = nx.eigenvector_centrality(h)\n",
    "        color = 'Oranges'\n",
    "    if network_type == 'Social distance':  \n",
    "        value = nx.single_source_shortest_path_length(h, individuals.index(ind))\n",
    "        m = max(value.values())\n",
    "        for i in value.values():\n",
    "            i = m - i\n",
    "        color = 'Purples'\n",
    "    widths = g.edges()\n",
    "    weights = [(g[u][v]['weight'])*0.5 for u,v in widths]\n",
    "    pos=nx.kamada_kawai_layout(g)\n",
    "    cNorm  = colors.Normalize(vmin=min(value.values()), vmax=max(value.values()))\n",
    "    scalarMap = cmx.ScalarMappable(norm=cNorm, cmap=color)\n",
    "    \n",
    "    nx.draw_networkx_edges(h,pos, width=weights)\n",
    "    if images:\n",
    "        plt.axis('off')\n",
    "        plt.xlim([-1,1])\n",
    "        plt.ylim([-1,1])\n",
    "        ax=plt.gca()\n",
    "        fig=plt.gcf()\n",
    "        trans = ax.transData.transform\n",
    "        trans2 = fig.transFigure.inverted().transform\n",
    "        imsize = 0.05\n",
    "        for n in g.nodes():\n",
    "            (x,y) = pos[n]\n",
    "            xx,yy = trans((x,y))\n",
    "            xa,ya = trans2((xx,yy))\n",
    "            b = plt.axes([xa-(imsize+0.02)/2.0,ya-(imsize+0.02)/2.0, imsize+0.02, imsize+0.02 ])\n",
    "            z= np.zeros((img[n].shape[0]+50, img[n].shape[1]+50,3))\n",
    "            colorVal = scalarMap.to_rgba(value[n])\n",
    "            z[:,:,0] = colorVal[0]\n",
    "            z[:,:,1] = colorVal[1]\n",
    "            z[:,:,2] = colorVal[2]\n",
    "            b.imshow(z)\n",
    "            b.axis('off')\n",
    "            a = plt.axes([xa-imsize/2.0,ya-imsize/2.0, imsize, imsize ])\n",
    "            a.imshow(img[n])\n",
    "            a.set_aspect('equal')\n",
    "            a.axis('off')\n",
    "    else:\n",
    "        nx.draw_networkx_nodes(g, pos, node_color=node_colors)\n",
    "        label_options = {\"fc\": \"white\", \"alpha\": 0.8}\n",
    "        nx.draw_networkx_labels(g, pos, labels=dict_names, bbox=label_options)\n",
    "        \n",
    "    ax.margins(0.1, 0.1)\n",
    "    ax.set_title(title)\n",
    "    if save == True:\n",
    "        if path == None:\n",
    "            path = os.getcwd()\n",
    "        plt.savefig(path + title + '.png')"
   ]
  },
  {
   "cell_type": "code",
   "execution_count": 11,
   "metadata": {
    "jupyter": {
     "source_hidden": true
    }
   },
   "outputs": [],
   "source": [
    "def reorder_files(fichiers, save = False, name=None):\n",
    "    \"\"\"\n",
    "    MC/BK 29/04/21\n",
    "    Inputs:\n",
    "        fichiers : list of the paths to the files to reorder\n",
    "        save : if you want to save the reorder into a new .csv, by default = False\n",
    "        name : name of the new .csv, by default = None \n",
    "    Outputs:\n",
    "        DataFrame of the files reordered, and a new .csv if save=True \n",
    "    \"\"\"\n",
    "    data = pd.read_excel(fichiers[0], encoding=\"latin-1\")\n",
    "    data_complete = pd.DataFrame(columns=data.columns)\n",
    "    for fichier in fichiers:\n",
    "        data = pd.read_excel(fichier, encoding=\"latin-1\")\n",
    "        data_tmp = pd.DataFrame(columns=data.columns)\n",
    "        for i in np.unique(data['Observation date']):\n",
    "            data_day = data[data['Observation date']==i]\n",
    "            for j in np.unique(data_day['Subject']):\n",
    "                data_day_subject = data_day[data_day['Subject']==j]\n",
    "                order = np.argsort(data_day_subject['Start (s)'])\n",
    "                data_tmp = pd.concat([data_tmp,data_day_subject.iloc[order]])\n",
    "        data_complete = pd.concat([data_complete, data_tmp])\n",
    "    if save:\n",
    "        data_complete.to_csv('C:/Users/maell/Documents/ENS/Cours/Césure/Stage_Sliwa/Strasbourg/Code/Tonk/Focals/'+ name, sep=';', encoding=\"latin-1\" )\n",
    "    return data_complete"
   ]
  },
  {
   "cell_type": "code",
   "execution_count": 107,
   "metadata": {
    "jupyter": {
     "source_hidden": true
    }
   },
   "outputs": [],
   "source": [
    "g = nx.Graph(matrix_affiliative)\n",
    "centrality_a = nx.degree_centrality(g)\n",
    "value_ind_scanned = centrality_a[individus.index(ind_scanned)]\n",
    "dissimilarity_matrix_centrality_a = np.zeros(shape=(len(individus), len(individus))) \n",
    "for i in range(len(dissimilarity_matrix_centrality_a)):\n",
    "    for j in range(len(dissimilarity_matrix_centrality_a)):\n",
    "        dissimilarity_matrix_centrality_a[i,j] = abs((centrality_a[i]-value_ind_scanned)-(centrality_a[j]-value_ind_scanned))\n",
    "dissimilarity_matrix_centrality_a = np.delete(dissimilarity_matrix_centrality_a, individus.index(ind_scanned), 1)\n",
    "dissimilarity_matrix_centrality_a = np.delete(dissimilarity_matrix_centrality_a, individus.index(ind_scanned), 0)"
   ]
  },
  {
   "cell_type": "code",
   "execution_count": 43,
   "metadata": {
    "jupyter": {
     "source_hidden": true
    }
   },
   "outputs": [],
   "source": [
    "def compute_matrix_grooming(ind, fichiers, giv=None, rece=None):\n",
    "    \"\"\"\n",
    "    MC 02/06/21 \n",
    "    Inputs :\n",
    "        ind : individus from which to compute the DSI\n",
    "        rand : True if we want to calculate random matrices for bootstrap, by default = False\n",
    "        giv : givers individus from which to compute the DSI\n",
    "        rece : receivers individus from which to compute the DSI\n",
    "        fichiers : where the data are stored \n",
    "        \n",
    "    Outputs:\n",
    "        matrix of grooming for each dyad\n",
    "    \"\"\"\n",
    "    giv = ind\n",
    "    rece = ind\n",
    "    matrix = np.zeros(shape=(len(ind), len(ind))) #Initiation\n",
    "    for fichier in fichiers :\n",
    "        print(fichier)\n",
    "        data=pd.read_excel(fichier) #Regarde les focaux un par un\n",
    "\n",
    "        for rang in range(len(data)): #Regarde le focal ligne par ligne \n",
    "            focal = data.Subject[rang] #Pour chaque ligne, regarde l'individu pris en focal\n",
    "            if data.Behavior[rang] == '1 Debut Grooming' and data.Modifiers[rang]!='None': #si le behavior est du début de grooming\n",
    "                print(rang)\n",
    "                start = data['Start (s)'][rang] #Stocker le temps de départ de ce grooming\n",
    "                end=0\n",
    "                for i in range(rang, len(data)):\n",
    "                    if data.Behavior[i]=='2 Zone de Grooming':\n",
    "                        groomed = re.findall(r'\\d+', data.Modifiers[i])\n",
    "                        rang2 = i\n",
    "                        break\n",
    "                for j in range (rang2, len(data)):\n",
    "                    if data.Behavior[j] == '4 Fin Grooming':\n",
    "                        who = re.findall(r'\\d+', data.Modifiers[j])\n",
    "                        if who == groomed:\n",
    "                            end = data['Stop (s)'][j]\n",
    "                            break\n",
    "                if end !=0:\n",
    "                    duration = end - start\n",
    "                else:\n",
    "                    duration = 0 \n",
    "\n",
    "                for i in ind:\n",
    "                    if i in str(data.Modifiers[rang]):\n",
    "                        matrix[giv.index(i),rece.index(focal)]+=duration\n",
    "                        matrix[giv.index(focal),rece.index(i)]+=duration\n",
    "    return matrix"
   ]
  },
  {
   "cell_type": "code",
   "execution_count": 10,
   "metadata": {
    "collapsed": true,
    "jupyter": {
     "outputs_hidden": true,
     "source_hidden": true
    }
   },
   "outputs": [
    {
     "ename": "NameError",
     "evalue": "name 'individus' is not defined",
     "output_type": "error",
     "traceback": [
      "\u001b[1;31m---------------------------------------------------------------------------\u001b[0m",
      "\u001b[1;31mNameError\u001b[0m                                 Traceback (most recent call last)",
      "\u001b[1;32m<ipython-input-10-0cf1ecd0d36d>\u001b[0m in \u001b[0;36m<module>\u001b[1;34m\u001b[0m\n\u001b[1;32m----> 1\u001b[1;33m \u001b[1;32mdef\u001b[0m \u001b[0mcompute_binary\u001b[0m\u001b[1;33m(\u001b[0m\u001b[0mmatrix\u001b[0m\u001b[1;33m,\u001b[0m \u001b[0msize\u001b[0m\u001b[1;33m=\u001b[0m\u001b[0mindividus\u001b[0m\u001b[1;33m)\u001b[0m\u001b[1;33m:\u001b[0m\u001b[1;33m\u001b[0m\u001b[1;33m\u001b[0m\u001b[0m\n\u001b[0m\u001b[0;32m      2\u001b[0m     \"\"\"\n\u001b[0;32m      3\u001b[0m     \u001b[0mMC\u001b[0m \u001b[1;36m0\u001b[0m\u001b[1;36m7\u001b[0m\u001b[1;33m/\u001b[0m\u001b[1;36m0\u001b[0m\u001b[1;36m4\u001b[0m\u001b[1;33m/\u001b[0m\u001b[1;36m21\u001b[0m\u001b[1;33m\u001b[0m\u001b[1;33m\u001b[0m\u001b[0m\n\u001b[0;32m      4\u001b[0m     \u001b[0mInputs\u001b[0m\u001b[1;33m:\u001b[0m\u001b[1;33m\u001b[0m\u001b[1;33m\u001b[0m\u001b[0m\n\u001b[0;32m      5\u001b[0m         \u001b[0mmatrix\u001b[0m \u001b[0mto\u001b[0m \u001b[0mbinarize\u001b[0m\u001b[1;33m\u001b[0m\u001b[1;33m\u001b[0m\u001b[0m\n",
      "\u001b[1;31mNameError\u001b[0m: name 'individus' is not defined"
     ]
    }
   ],
   "source": [
    "def compute_binary(matrix, size=individus):\n",
    "    \"\"\"\n",
    "    MC 07/04/21\n",
    "    Inputs:\n",
    "        matrix to binarize\n",
    "        size of the matrix (by default: 18x18)\n",
    "    Outputs:\n",
    "        binary matrix\n",
    "    \"\"\"\n",
    "    if size== individus:\n",
    "        size = len(individus)\n",
    "    matrix_binary = np.zeros(shape=(size, size))\n",
    "    for i in range(size):\n",
    "        for j in range(size):\n",
    "            if matrix[i][j] == 0 :\n",
    "                matrix_binary[i][j] = 0\n",
    "            else:\n",
    "                matrix_binary[i][j] = 1\n",
    "    return matrix"
   ]
  },
  {
   "cell_type": "code",
   "execution_count": 61,
   "metadata": {
    "collapsed": true,
    "jupyter": {
     "outputs_hidden": true,
     "source_hidden": true
    }
   },
   "outputs": [
    {
     "data": {
      "text/plain": [
       "Text(0.5, 1.0, 'Affiliative network')"
      ]
     },
     "execution_count": 61,
     "metadata": {},
     "output_type": "execute_result"
    }
   ],
   "source": [
    "for i in range(len(individus)):\n",
    "    for j in range(len(individus)):\n",
    "        if matrix_affiliative[i][j] < 0.5 :\n",
    "            matrix_affiliative[i][j] = 0 \n",
    "\n",
    "fig, ax = plt.subplots(figsize=(10,10))\n",
    "g = nx.Graph(matrix_affiliative)\n",
    "widths = g.edges()\n",
    "weights = [(g[u][v]['weight']) for u,v in widths]\n",
    "pos=nx.spring_layout(g)\n",
    "nx.draw_networkx_edges(g,pos, width=weights)\n",
    "nx.draw_networkx_nodes(g, pos, node_color=color_genders)\n",
    "label_options = {\"fc\": \"white\", \"alpha\": 0.8}\n",
    "nx.draw_networkx_labels(g, pos, labels=names, bbox=label_options)\n",
    "ax.margins(0.1, 0.1)\n",
    "ax.set_title('Affiliative network')\n",
    "#plt.savefig('C:/Users/maell/Documents/ENS/Cours/Césure/Stage_Sliwa/Strasbourg/Code/affiliative_network.png')\n"
   ]
  },
  {
   "cell_type": "code",
   "execution_count": 3,
   "metadata": {
    "jupyter": {
     "source_hidden": true
    }
   },
   "outputs": [],
   "source": [
    "genders = [1, 1, 0, 0, 1, 0, 1, 1, 1, 1, 0, 0, 0, 1, 0, 1, 1, 0]\n",
    "\n",
    "domination_theorique = [14, 9, 6, 10, 12, 12, 5, 4, 14, 2, 10, 6, 1, 3, 15, 8, 14, 14]\n",
    "\n",
    "ages = [1, 3, 3, 2, 3, 3, 21, 11, 1, 21, 2, 3, 18, 17, 1, 17, 1, 1]"
   ]
  },
  {
   "cell_type": "code",
   "execution_count": 370,
   "metadata": {
    "collapsed": true,
    "jupyter": {
     "outputs_hidden": true,
     "source_hidden": true
    }
   },
   "outputs": [
    {
     "data": {
      "text/plain": [
       "Text(0.5, 1.0, 'Proximity behavior')"
      ]
     },
     "execution_count": 370,
     "metadata": {},
     "output_type": "execute_result"
    },
    {
     "data": {
      "image/png": "[encoded data removed]",
      "text/plain": [
       "<Figure size 1080x1440 with 3 Axes>"
      ]
     },
     "metadata": {},
     "output_type": "display_data"
    }
   ],
   "source": [
    "fig, ax = plt.subplots(figsize=(15,20))\n",
    "plt.subplot(221)\n",
    "g = nx.Graph(matrix_affiliative)\n",
    "widths = g.edges()\n",
    "weights = [(g[u][v]['weight'])*50 for u,v in widths]\n",
    "pos=nx.spring_layout(g)\n",
    "nx.draw_networkx_edges(g,pos, width=weights)\n",
    "nx.draw_networkx_nodes(g, pos, node_color=color_genders)\n",
    "label_options = {\"fc\": \"white\", \"alpha\": 0.8}\n",
    "nx.draw_networkx_labels(g, pos, labels=names, bbox=label_options)\n",
    "ax.margins(0.5, 0.5)\n",
    "ax.set_title('Affiliative behavior')\n",
    "\n",
    "plt.subplot(222)\n",
    "g = nx.Graph(matrix_affiliative_directed)\n",
    "widths = g.edges()\n",
    "weights = [(g[u][v]['weight'])*50 for u,v in widths]\n",
    "pos=nx.spring_layout(g)\n",
    "nx.draw_networkx_edges(g,pos, width=weights)\n",
    "nx.draw_networkx_nodes(g, pos, node_color=color_genders)\n",
    "label_options = {\"fc\": \"white\", \"alpha\": 0.8}\n",
    "nx.draw_networkx_labels(g, pos, labels=names, bbox=label_options)\n",
    "ax.margins(0.5, 0.5)\n",
    "ax.set_title('Affiliative behavior directed')\n",
    "\n",
    "plt.subplot(223)\n",
    "g = nx.Graph(matrix_proximity)\n",
    "widths = g.edges()\n",
    "weights = [(g[u][v]['weight'])*100 for u,v in widths]\n",
    "pos=nx.spring_layout(g)\n",
    "nx.draw_networkx_edges(g,pos, width=weights)\n",
    "nx.draw_networkx_nodes(g, pos, node_color=color_genders)\n",
    "label_options = {\"fc\": \"white\", \"alpha\": 0.8}\n",
    "nx.draw_networkx_labels(g, pos, labels=names, bbox=label_options)\n",
    "ax.margins(0.5, 0.5)\n",
    "ax.set_title('Proximity behavior')\n",
    "\n",
    "#plt.savefig('C:/Users/maell/Documents/ENS/Cours/Césure/Stage_Sliwa/Strasbourg/Code/affiliative_behavior.png')\n"
   ]
  },
  {
   "cell_type": "code",
   "execution_count": 83,
   "metadata": {
    "jupyter": {
     "source_hidden": true
    }
   },
   "outputs": [],
   "source": [
    "matrix_proximity = np.zeros(shape=(len(individus), len(individus)))\n",
    "total = 0\n",
    "for fichier in fichiers :\n",
    "    data=pd.read_csv(fichier, sep=';', encoding=\"latin-1\")\n",
    "    for rang in range(len(data)):\n",
    "        focal = data.Subject[rang]\n",
    "        if data.Behavior[rang] == '1. Contact passif' or data.Behavior[rang] =='2. Espace peripersonnel':\n",
    "            for i in individus:\n",
    "                if i in str(data.Modifiers[rang]):\n",
    "                    matrix_proximity[individus.index(i)][individus.index(focal)]+=1\n",
    "                    matrix_proximity[individus.index(focal)][individus.index(i)]+=1\n",
    "                    total += 1\n",
    "                    \n",
    "        if data.Behavior[rang] == '3. peri<...<2m':\n",
    "            for i in individus:\n",
    "                if i in str(data.Modifiers[rang]):\n",
    "                    matrix_proximity[individus.index(i)][individus.index(focal)]+=0.5\n",
    "                    matrix_proximity[individus.index(focal)][individus.index(i)]+=0.5\n",
    "                    total += 1 \n",
    "                                    \n",
    "matrix_proximity = matrix_proximity/total\n",
    "mean = np.mean(matrix_proximity)\n",
    "matrix_proximity = matrix_proximity/mean"
   ]
  }
 ],
 "metadata": {
  "kernelspec": {
   "display_name": "Python 3",
   "language": "python",
   "name": "python3"
  },
  "language_info": {
   "codemirror_mode": {
    "name": "ipython",
    "version": 3
   },
   "file_extension": ".py",
   "mimetype": "text/x-python",
   "name": "python",
   "nbconvert_exporter": "python",
   "pygments_lexer": "ipython3",
   "version": "3.8.3"
  }
 },
 "nbformat": 4,
 "nbformat_minor": 4
}
